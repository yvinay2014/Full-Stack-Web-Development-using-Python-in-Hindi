{
 "cells": [
  {
   "cell_type": "markdown",
   "id": "ec58bdf8",
   "metadata": {},
   "source": [
    "User Input Problems: "
   ]
  },
  {
   "cell_type": "markdown",
   "id": "b090b8b9",
   "metadata": {},
   "source": [
    "1. Write a python script to take your name as input from the user and then print it."
   ]
  },
  {
   "cell_type": "code",
   "execution_count": 1,
   "id": "a4299a19",
   "metadata": {},
   "outputs": [
    {
     "name": "stdout",
     "output_type": "stream",
     "text": [
      "Enter your name: vinay kumar yadav\n",
      "vinay kumar yadav\n"
     ]
    }
   ],
   "source": [
    "name = input(\"Enter your name: \")\n",
    "print(name)"
   ]
  },
  {
   "cell_type": "markdown",
   "id": "6595d205",
   "metadata": {},
   "source": [
    "2. Write a python script to take input from the user. Input must be a number."
   ]
  },
  {
   "cell_type": "code",
   "execution_count": 2,
   "id": "00b2e9c5",
   "metadata": {},
   "outputs": [
    {
     "name": "stdout",
     "output_type": "stream",
     "text": [
      "Enter a number: 25\n",
      "25\n"
     ]
    }
   ],
   "source": [
    "num = int(input(\"Enter a number: \"))\n",
    "print(num)"
   ]
  },
  {
   "cell_type": "markdown",
   "id": "9cbc9226",
   "metadata": {},
   "source": [
    "3. Write a python script which takes two numbers from the user, then calculate their sum\n",
    "   and display the result."
   ]
  },
  {
   "cell_type": "code",
   "execution_count": 3,
   "id": "e6de5dd1",
   "metadata": {},
   "outputs": [
    {
     "name": "stdout",
     "output_type": "stream",
     "text": [
      "Enter first number: 25\n",
      "Enter second number: 26\n",
      "51\n"
     ]
    }
   ],
   "source": [
    "a = int(input(\"Enter first number: \"))\n",
    "b = int(input(\"Enter second number: \"))\n",
    "print(a+b)"
   ]
  },
  {
   "cell_type": "markdown",
   "id": "46232b6c",
   "metadata": {},
   "source": [
    "4. Write a python script which takes the radius from the user and display area of a circle."
   ]
  },
  {
   "cell_type": "code",
   "execution_count": 8,
   "id": "880dffbb",
   "metadata": {},
   "outputs": [
    {
     "name": "stdout",
     "output_type": "stream",
     "text": [
      "Enter the radius of circle: 2\n",
      "12.566370614359172\n"
     ]
    }
   ],
   "source": [
    "import math\n",
    "r = int(input(\"Enter the radius of circle: \"))\n",
    "area = (math.pi)*(r**2)\n",
    "print(area)"
   ]
  },
  {
   "cell_type": "markdown",
   "id": "04128176",
   "metadata": {},
   "source": [
    "5. Write a python script to calculate the square of a number. Number is entered by the user."
   ]
  },
  {
   "cell_type": "code",
   "execution_count": 9,
   "id": "acdcc31d",
   "metadata": {},
   "outputs": [
    {
     "name": "stdout",
     "output_type": "stream",
     "text": [
      "enter the number: 2\n",
      "4\n"
     ]
    }
   ],
   "source": [
    "n = int(input(\"enter the number: \"))\n",
    "print(n**2)"
   ]
  },
  {
   "cell_type": "markdown",
   "id": "e1afdda2",
   "metadata": {},
   "source": [
    "6. Write a python script to calculate the area of Triangle. Number is entered by the user."
   ]
  },
  {
   "cell_type": "code",
   "execution_count": 10,
   "id": "7ee4ac7f",
   "metadata": {},
   "outputs": [
    {
     "name": "stdout",
     "output_type": "stream",
     "text": [
      "Enter the base of triange: 2\n",
      "Enter the height of triange: 2\n",
      "2.0\n"
     ]
    }
   ],
   "source": [
    "base = int(input(\"Enter the base of triange: \"))\n",
    "height = int(input(\"Enter the height of triange: \"))\n",
    "area = 0.5*(base*height)\n",
    "print(area)"
   ]
  },
  {
   "cell_type": "markdown",
   "id": "b35cc1ba",
   "metadata": {},
   "source": [
    "7. Write a python script to calculate average of three numbers, entered by the user"
   ]
  },
  {
   "cell_type": "code",
   "execution_count": 11,
   "id": "5133ef38",
   "metadata": {},
   "outputs": [
    {
     "name": "stdout",
     "output_type": "stream",
     "text": [
      "Enter the value of first num: 1\n",
      "Enter the value of 2nd num: 1\n",
      "Enter the value of 3rd num: 1\n",
      "1.0\n"
     ]
    }
   ],
   "source": [
    "a = int(input(\"Enter the value of first num: \"))\n",
    "b = int(input(\"Enter the value of 2nd num: \"))\n",
    "c = int(input(\"Enter the value of 3rd num: \"))\n",
    "average = (a+b+c)/3\n",
    "print(average)"
   ]
  },
  {
   "cell_type": "markdown",
   "id": "a6cfe7c6",
   "metadata": {},
   "source": [
    "8. Write a python script to calculate simple interest"
   ]
  },
  {
   "cell_type": "code",
   "execution_count": 13,
   "id": "567cc236",
   "metadata": {},
   "outputs": [
    {
     "name": "stdout",
     "output_type": "stream",
     "text": [
      "enter the principle amt.: 1000\n",
      "enter the rate of interest: 1\n",
      "enter the time period: 1\n",
      "10.0\n"
     ]
    }
   ],
   "source": [
    "p = int(input(\"enter the principle amt.: \"))\n",
    "r = int(input(\"enter the rate of interest: \"))\n",
    "t = int(input(\"enter the time period: \"))\n",
    "si = (p*r*t)/100\n",
    "print(si)"
   ]
  },
  {
   "cell_type": "markdown",
   "id": "8e902c19",
   "metadata": {},
   "source": [
    "9. Write a python script to calculate the volume of a cuboid."
   ]
  },
  {
   "cell_type": "code",
   "execution_count": 14,
   "id": "2151c789",
   "metadata": {},
   "outputs": [
    {
     "name": "stdout",
     "output_type": "stream",
     "text": [
      "Enter the length of coboid: 25\n",
      "Enter the width of cuboid: 52\n",
      "Enter the height of cuboid: 36\n",
      "46800\n"
     ]
    }
   ],
   "source": [
    "length = int(input(\"Enter the length of coboid: \"))\n",
    "width = int(input(\"Enter the width of cuboid: \"))\n",
    "height = int(input(\"Enter the height of cuboid: \"))\n",
    "volume = length * width * height\n",
    "print(volume)"
   ]
  },
  {
   "cell_type": "markdown",
   "id": "5a73bc24",
   "metadata": {},
   "source": [
    "10. Write a python script to calculate area of a rectangle"
   ]
  },
  {
   "cell_type": "code",
   "execution_count": 15,
   "id": "afd3f80c",
   "metadata": {},
   "outputs": [
    {
     "name": "stdout",
     "output_type": "stream",
     "text": [
      "Enter the length of rectange: 25\n",
      "Enter the width of rectange: 26\n",
      "650\n"
     ]
    }
   ],
   "source": [
    "length = int(input(\"Enter the length of rectange: \"))\n",
    "width = int(input(\"Enter the width of rectange: \"))\n",
    "area = length * width\n",
    "print(area)"
   ]
  }
 ],
 "metadata": {
  "kernelspec": {
   "display_name": "Python 3 (ipykernel)",
   "language": "python",
   "name": "python3"
  },
  "language_info": {
   "codemirror_mode": {
    "name": "ipython",
    "version": 3
   },
   "file_extension": ".py",
   "mimetype": "text/x-python",
   "name": "python",
   "nbconvert_exporter": "python",
   "pygments_lexer": "ipython3",
   "version": "3.9.12"
  }
 },
 "nbformat": 4,
 "nbformat_minor": 5
}
