{
 "cells": [
  {
   "cell_type": "code",
   "execution_count": null,
   "id": "2a311a2b",
   "metadata": {},
   "outputs": [],
   "source": [
    "1. Write a Python script to create a list of first N natural numbers."
   ]
  },
  {
   "cell_type": "code",
   "execution_count": 2,
   "id": "005848a7",
   "metadata": {
    "scrolled": true
   },
   "outputs": [
    {
     "name": "stdout",
     "output_type": "stream",
     "text": [
      "Enter the value of N: 10\n",
      "[1, 2, 3, 4, 5, 6, 7, 8, 9, 10]\n"
     ]
    }
   ],
   "source": [
    "n = int(input(\"Enter the value of N: \"))\n",
    "l1 = []\n",
    "for x in range(n):\n",
    "    l1.append(x+1)\n",
    "print(l1)    "
   ]
  },
  {
   "cell_type": "markdown",
   "id": "05aa3a8f",
   "metadata": {},
   "source": [
    "2. Write a Python script to create a list of first N odd natural numbers."
   ]
  },
  {
   "cell_type": "code",
   "execution_count": 3,
   "id": "b79e75b9",
   "metadata": {},
   "outputs": [
    {
     "name": "stdout",
     "output_type": "stream",
     "text": [
      "Enter the value of N: 7\n",
      "[1, 3, 5, 7, 9, 11, 13]\n"
     ]
    }
   ],
   "source": [
    "n = int(input(\"Enter the value of N: \"))\n",
    "l1 = []\n",
    "for x in range(n):\n",
    "    l1.append(2*x+1)\n",
    "print(l1)"
   ]
  },
  {
   "cell_type": "markdown",
   "id": "a1606251",
   "metadata": {},
   "source": [
    "3. Write a Python script to create a list of first N even natural numbers."
   ]
  },
  {
   "cell_type": "code",
   "execution_count": 6,
   "id": "9d568a24",
   "metadata": {},
   "outputs": [
    {
     "name": "stdout",
     "output_type": "stream",
     "text": [
      "Enter the value of N: 10\n",
      "[2, 4, 6, 8, 10, 12, 14, 16, 18]\n"
     ]
    }
   ],
   "source": [
    "n = int(input(\"Enter the value of N: \"))\n",
    "l1 = []\n",
    "for x in range(1,n):\n",
    "    l1.append(2*x)\n",
    "print(l1)"
   ]
  },
  {
   "cell_type": "markdown",
   "id": "4853f1a1",
   "metadata": {},
   "source": [
    "4. Write a Python script to find the greatest number in a given list of numbers."
   ]
  },
  {
   "cell_type": "code",
   "execution_count": 7,
   "id": "29ac1c89",
   "metadata": {},
   "outputs": [
    {
     "name": "stdout",
     "output_type": "stream",
     "text": [
      "18\n"
     ]
    }
   ],
   "source": [
    "li = [2, 4, 6, 8, 10, 12, 14, 16, 18]\n",
    "print(max(li))"
   ]
  },
  {
   "cell_type": "markdown",
   "id": "23c5bb97",
   "metadata": {},
   "source": [
    "5. Write a Python script to find the smallest number in a given list of numbers."
   ]
  },
  {
   "cell_type": "code",
   "execution_count": 8,
   "id": "66e801a8",
   "metadata": {},
   "outputs": [
    {
     "name": "stdout",
     "output_type": "stream",
     "text": [
      "2\n"
     ]
    }
   ],
   "source": [
    "li = [2, 4, 6, 8, 10, 12, 14, 16, 18]\n",
    "print(min(li))"
   ]
  },
  {
   "cell_type": "markdown",
   "id": "2442d794",
   "metadata": {},
   "source": [
    "6. Write a Python script to calculate the sum of elements in a given list of numbers."
   ]
  },
  {
   "cell_type": "code",
   "execution_count": 9,
   "id": "8bb567a6",
   "metadata": {},
   "outputs": [
    {
     "name": "stdout",
     "output_type": "stream",
     "text": [
      "90\n"
     ]
    }
   ],
   "source": [
    "li = [2, 4, 6, 8, 10, 12, 14, 16, 18]\n",
    "print(sum(li))"
   ]
  },
  {
   "cell_type": "markdown",
   "id": "b8bca96f",
   "metadata": {},
   "source": [
    "7. Write a Python script to remove all non int values from a list."
   ]
  },
  {
   "cell_type": "code",
   "execution_count": 29,
   "id": "658d323a",
   "metadata": {},
   "outputs": [
    {
     "name": "stdout",
     "output_type": "stream",
     "text": [
      "[True, 'abcdefg', False]\n"
     ]
    }
   ],
   "source": [
    "my_list = [5, 2, 1, True, 'abcdefg', 3, False, 4]\n",
    "y = [x for x in my_list if type(x)!=int]\n",
    "print(y)"
   ]
  },
  {
   "cell_type": "markdown",
   "id": "28481310",
   "metadata": {},
   "source": [
    "8. Write a Python script to print distinct elements along with their frequencies of\n",
    "occurrence in the list."
   ]
  },
  {
   "cell_type": "code",
   "execution_count": 27,
   "id": "694e8b6a",
   "metadata": {},
   "outputs": [
    {
     "name": "stdout",
     "output_type": "stream",
     "text": [
      "[2, 4, 5, 6, 8, 10, 12, 14, 16, 18]\n"
     ]
    }
   ],
   "source": [
    "li = [2, 4, 6, 8, 10, 12, 14, 16, 18,2, 4, 6, 8, 10, 12, 14, 16, 18,5,4,2,10]\n",
    "y = list(set(li))\n",
    "print(y)"
   ]
  },
  {
   "cell_type": "markdown",
   "id": "14771cb4",
   "metadata": {},
   "source": [
    "9. Write a Python script to print indices of all occurrences of a given element in a given\n",
    "list."
   ]
  },
  {
   "cell_type": "code",
   "execution_count": 24,
   "id": "64244213",
   "metadata": {
    "scrolled": true
   },
   "outputs": [
    {
     "name": "stdout",
     "output_type": "stream",
     "text": [
      "0 -- 2\n",
      "1 -- 4\n",
      "2 -- 5\n",
      "3 -- 6\n",
      "4 -- 8\n",
      "5 -- 10\n",
      "6 -- 12\n",
      "7 -- 14\n",
      "8 -- 16\n",
      "9 -- 18\n"
     ]
    }
   ],
   "source": [
    "li = [2, 4, 5, 6, 8, 10, 12, 14, 16, 18]\n",
    "for x in li:\n",
    "    print(li.index(x),\"--\",x)"
   ]
  },
  {
   "cell_type": "markdown",
   "id": "e842e68f",
   "metadata": {},
   "source": [
    "10. Write a python script to sort a list."
   ]
  },
  {
   "cell_type": "code",
   "execution_count": 26,
   "id": "c072df7a",
   "metadata": {},
   "outputs": [
    {
     "name": "stdout",
     "output_type": "stream",
     "text": [
      "[2, 2, 2, 4, 4, 4, 5, 6, 6, 8, 8, 10, 10, 10, 12, 12, 14, 14, 16, 16, 18, 18]\n"
     ]
    }
   ],
   "source": [
    "li = [2, 4, 6, 8, 10, 12, 14, 16, 18,2, 4, 6, 8, 10, 12, 14, 16, 18,5,4,2,10]\n",
    "print(sorted(li))"
   ]
  }
 ],
 "metadata": {
  "kernelspec": {
   "display_name": "Python 3 (ipykernel)",
   "language": "python",
   "name": "python3"
  },
  "language_info": {
   "codemirror_mode": {
    "name": "ipython",
    "version": 3
   },
   "file_extension": ".py",
   "mimetype": "text/x-python",
   "name": "python",
   "nbconvert_exporter": "python",
   "pygments_lexer": "ipython3",
   "version": "3.10.6"
  }
 },
 "nbformat": 4,
 "nbformat_minor": 5
}
