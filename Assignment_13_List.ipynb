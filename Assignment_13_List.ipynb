{
 "cells": [
  {
   "cell_type": "markdown",
   "id": "1bd91cdf",
   "metadata": {},
   "source": [
    "1. Write a python script to store multiple items in a single variable ( Items are “Java”\n",
    ",“Python”, “SQL”, “C” ) using list"
   ]
  },
  {
   "cell_type": "code",
   "execution_count": 3,
   "id": "dd46eaf8",
   "metadata": {},
   "outputs": [
    {
     "name": "stdout",
     "output_type": "stream",
     "text": [
      "['Java', 'Python', 'SQL', 'C']\n"
     ]
    }
   ],
   "source": [
    "li =[\"Java\",\"Python\",\"SQL\",\"C\"]\n",
    "print(li)"
   ]
  },
  {
   "cell_type": "markdown",
   "id": "ed437a1c",
   "metadata": {},
   "source": [
    "2. Write a python script to get the data type of a list."
   ]
  },
  {
   "cell_type": "code",
   "execution_count": 4,
   "id": "c7227ae4",
   "metadata": {
    "scrolled": true
   },
   "outputs": [
    {
     "name": "stdout",
     "output_type": "stream",
     "text": [
      "<class 'list'>\n"
     ]
    }
   ],
   "source": [
    "li =[\"Java\",\"Python\",\"SQL\",\"C\"]\n",
    "print(type(li))"
   ]
  },
  {
   "cell_type": "markdown",
   "id": "ee145821",
   "metadata": {},
   "source": [
    "3. Write a python script to get the last item of the list ( mylist = [\"Java\", \"C\", \"Python\"])"
   ]
  },
  {
   "cell_type": "code",
   "execution_count": 6,
   "id": "5757cee2",
   "metadata": {},
   "outputs": [
    {
     "name": "stdout",
     "output_type": "stream",
     "text": [
      "Python\n"
     ]
    }
   ],
   "source": [
    "mylist = [\"Java\", \"C\", \"Python\"]\n",
    "print(mylist[2])"
   ]
  },
  {
   "cell_type": "markdown",
   "id": "5242d1c3",
   "metadata": {},
   "source": [
    "4. Write a python script to Change the values \"SQL\" and \"Reactnative\" with the values\n",
    "\"NoSQL\" and \"Flutter\" (List is thislist = [\"Java\", \"SQL\", \"C\", \"Reactnative\",\n",
    "\"Javascript\", \"Python\"]"
   ]
  },
  {
   "cell_type": "code",
   "execution_count": 8,
   "id": "5fb5626f",
   "metadata": {},
   "outputs": [
    {
     "name": "stdout",
     "output_type": "stream",
     "text": [
      "['Java', 'NoSQL', 'C', 'Flutter', 'Javascript', 'Python']\n"
     ]
    }
   ],
   "source": [
    "thislist = [\"Java\", \"SQL\", \"C\", \"Reactnative\",\"Javascript\", \"Python\"]\n",
    "thislist[1] = \"NoSQL\"\n",
    "thislist[3] = \"Flutter\"\n",
    "print(thislist)"
   ]
  },
  {
   "cell_type": "markdown",
   "id": "7aa3b85d",
   "metadata": {},
   "source": [
    "5. Write a python script to add an item to the end of the list (item “Python”). mylist =\n",
    "[\"Java\", \"SQL\", \"C\", \"Reactnative\"]"
   ]
  },
  {
   "cell_type": "code",
   "execution_count": 10,
   "id": "381ec8bc",
   "metadata": {},
   "outputs": [
    {
     "name": "stdout",
     "output_type": "stream",
     "text": [
      "['Java', 'SQL', 'C', 'Reactnative', 'Python']\n"
     ]
    }
   ],
   "source": [
    "mylist = [\"Java\", \"SQL\", \"C\", \"Reactnative\"]\n",
    "mylist.append(\"Python\")\n",
    "print(mylist)"
   ]
  },
  {
   "cell_type": "markdown",
   "id": "ab9c3414",
   "metadata": {},
   "source": [
    "6. Write a python program to append elements from another list to the current list.(\n",
    "firstlist = [\"Java\", \"Python\", \"SQL\"]\n",
    "secondlist = [\"C\", \"Cpp\", \"NoSQL\"] )"
   ]
  },
  {
   "cell_type": "code",
   "execution_count": 13,
   "id": "473bdfaa",
   "metadata": {},
   "outputs": [
    {
     "name": "stdout",
     "output_type": "stream",
     "text": [
      "['Java', 'Python', 'SQL', 'C', 'Cpp', 'NoSQL']\n"
     ]
    }
   ],
   "source": [
    "firstlist = [\"Java\", \"Python\", \"SQL\"]\n",
    "secondlist = [\"C\", \"Cpp\", \"NoSQL\"]\n",
    "firstlist = firstlist + secondlist\n",
    "print(firstlist)"
   ]
  },
  {
   "cell_type": "markdown",
   "id": "28c5db46",
   "metadata": {},
   "source": [
    "7. Write a python program to Print all items by referring to their index number (thislist =\n",
    "[\"Java\", \"SQL\", \"C\", \"Reactnative\", \"Javascript\", \"Python\"]"
   ]
  },
  {
   "cell_type": "code",
   "execution_count": 25,
   "id": "6fb75bb3",
   "metadata": {},
   "outputs": [
    {
     "name": "stdout",
     "output_type": "stream",
     "text": [
      "0 --- Java\n",
      "1 --- SQL\n",
      "2 --- C\n",
      "3 --- Reactnative\n",
      "4 --- Javascript\n",
      "5 --- Python\n"
     ]
    }
   ],
   "source": [
    "thislist = [\"Java\",\"SQL\",\"C\",\"Reactnative\",\"Javascript\",\"Python\"]\n",
    "for x in thislist:\n",
    "     print(thislist.index(x),\"---\",x)"
   ]
  },
  {
   "cell_type": "markdown",
   "id": "16106098",
   "metadata": {},
   "source": [
    "8. Write a python program to sort the list alphanumerically – thislist = [\"Java\", \"SQL\",\n",
    "\"C\", \"Reactjs\", \"Javascript\", \"Python\"]"
   ]
  },
  {
   "cell_type": "code",
   "execution_count": 28,
   "id": "947a5ad2",
   "metadata": {},
   "outputs": [
    {
     "name": "stdout",
     "output_type": "stream",
     "text": [
      "['C', 'Java', 'Javascript', 'Python', 'Reactjs', 'SQL']\n"
     ]
    }
   ],
   "source": [
    "thislist = [\"Java\", \"SQL\", \"C\", \"Reactjs\", \"Javascript\", \"Python\"]\n",
    "print(sorted(thislist))"
   ]
  },
  {
   "cell_type": "markdown",
   "id": "f48b7458",
   "metadata": {},
   "source": [
    "9. Write a Python script to create a list of city names taken from the user."
   ]
  },
  {
   "cell_type": "code",
   "execution_count": 41,
   "id": "8ba59ba0",
   "metadata": {},
   "outputs": [
    {
     "name": "stdout",
     "output_type": "stream",
     "text": [
      "How many city name you want to add in list: 4\n",
      "Enter the 4 city name\n",
      "Delhi\n",
      "Coimboitre\n",
      "Ballia\n",
      "Bhopal\n",
      "['Delhi', 'Coimboitre', 'Ballia', 'Bhopal']\n"
     ]
    }
   ],
   "source": [
    "#li = eval(input(\"Enter the value of city in square bracket[]: \"))\n",
    "#print(li)\n",
    "\n",
    "#other methods:-\n",
    "n = int(input(\"How many city name you want to add in list: \"))\n",
    "print(\"Enter the {} city name\".format(n))\n",
    "li = []\n",
    "i = 0\n",
    "while i<n:\n",
    "    thislist = input()\n",
    "    li.append(thislist)\n",
    "    i+=1\n",
    "print(li)    "
   ]
  },
  {
   "cell_type": "markdown",
   "id": "bdedec6f",
   "metadata": {},
   "source": [
    "10. Write a Python script to create a list, where each element of the list is a digit of a\n",
    "given number."
   ]
  },
  {
   "cell_type": "code",
   "execution_count": 44,
   "id": "80f00cad",
   "metadata": {},
   "outputs": [
    {
     "name": "stdout",
     "output_type": "stream",
     "text": [
      "Enter a number to change it's digit into list: 125\n",
      "['1', '2', '5']\n"
     ]
    }
   ],
   "source": [
    "l1 = list(input(\"Enter a number to change it's digit into list: \"))\n",
    "print(l1)"
   ]
  }
 ],
 "metadata": {
  "kernelspec": {
   "display_name": "Python 3 (ipykernel)",
   "language": "python",
   "name": "python3"
  },
  "language_info": {
   "codemirror_mode": {
    "name": "ipython",
    "version": 3
   },
   "file_extension": ".py",
   "mimetype": "text/x-python",
   "name": "python",
   "nbconvert_exporter": "python",
   "pygments_lexer": "ipython3",
   "version": "3.10.6"
  }
 },
 "nbformat": 4,
 "nbformat_minor": 5
}
