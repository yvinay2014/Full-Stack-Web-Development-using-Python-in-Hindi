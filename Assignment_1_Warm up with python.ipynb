{
 "cells": [
  {
   "cell_type": "markdown",
   "id": "86e06d31",
   "metadata": {},
   "source": [
    "###                       Assignment-1: Warm-up with python"
   ]
  },
  {
   "cell_type": "markdown",
   "id": "09556870",
   "metadata": {},
   "source": [
    "1. Write a command to get the Python version you are using."
   ]
  },
  {
   "cell_type": "code",
   "execution_count": 8,
   "id": "81c9f740",
   "metadata": {},
   "outputs": [
    {
     "data": {
      "text/plain": [
       "'3.9.12'"
      ]
     },
     "execution_count": 8,
     "metadata": {},
     "output_type": "execute_result"
    }
   ],
   "source": [
    "#in jupyter notebook\n",
    "from platform import python_version\n",
    "python_version()\n",
    "\n",
    "\n",
    "\"\"\"\n",
    "in cmd\n",
    "\n",
    "  python --version\n",
    "\n",
    "\"\"\""
   ]
  },
  {
   "cell_type": "markdown",
   "id": "7b5d985d",
   "metadata": {},
   "source": [
    "2. Write a python script to print (Hello Python) on the screen directly in the command\n",
    "   line."
   ]
  },
  {
   "cell_type": "code",
   "execution_count": 9,
   "id": "79028f27",
   "metadata": {},
   "outputs": [
    {
     "name": "stdout",
     "output_type": "stream",
     "text": [
      "Hello Python\n"
     ]
    }
   ],
   "source": [
    "print(\"Hello Python\")"
   ]
  },
  {
   "cell_type": "markdown",
   "id": "e1117933",
   "metadata": {},
   "source": [
    "3. Write a python script and store it in a file and execute the file from the command line."
   ]
  },
  {
   "cell_type": "code",
   "execution_count": null,
   "id": "aa2eebf7",
   "metadata": {},
   "outputs": [],
   "source": [
    "\"\"\"step 1 create a file\n",
    "   step 2 save with .py extension\n",
    "   step 3 do this code\n",
    "           from sys import argv\n",
    "           print(argv)\n",
    "   step 4 open cmd\n",
    "   step 5 change directory same as creted file\n",
    "   step 6 now excute the program\n",
    "   \"\"\""
   ]
  },
  {
   "cell_type": "markdown",
   "id": "03a667f7",
   "metadata": {},
   "source": [
    "4. Write a python script to print (Hello Python) on the screen using visual studio code."
   ]
  },
  {
   "cell_type": "code",
   "execution_count": 10,
   "id": "a9a46ad1",
   "metadata": {},
   "outputs": [
    {
     "name": "stdout",
     "output_type": "stream",
     "text": [
      "Hello Python\n"
     ]
    }
   ],
   "source": [
    "print(\"Hello Python\")"
   ]
  },
  {
   "cell_type": "markdown",
   "id": "b65d770a",
   "metadata": {},
   "source": [
    "5. Write a python script to print (Hello) on the first line and (Python) on the second line"
   ]
  },
  {
   "cell_type": "code",
   "execution_count": 12,
   "id": "c070914e",
   "metadata": {},
   "outputs": [
    {
     "name": "stdout",
     "output_type": "stream",
     "text": [
      "Hello \n",
      "Python\n"
     ]
    }
   ],
   "source": [
    "print(\"Hello \\nPython\")"
   ]
  },
  {
   "cell_type": "markdown",
   "id": "e46d1acf",
   "metadata": {},
   "source": [
    "6. Write a python script to print (“MySirG”) on the screen"
   ]
  },
  {
   "cell_type": "code",
   "execution_count": 13,
   "id": "827790aa",
   "metadata": {},
   "outputs": [
    {
     "name": "stdout",
     "output_type": "stream",
     "text": [
      "\"MySirG\"\n"
     ]
    }
   ],
   "source": [
    "print('\"MySirG\"')"
   ]
  },
  {
   "cell_type": "markdown",
   "id": "66bdbe63",
   "metadata": {},
   "source": [
    "7. Write a python script to print (“Teacher’s Day”) on the screen"
   ]
  },
  {
   "cell_type": "code",
   "execution_count": 14,
   "id": "c61e33b8",
   "metadata": {},
   "outputs": [
    {
     "name": "stdout",
     "output_type": "stream",
     "text": [
      " \"Teacher's Day\" \n"
     ]
    }
   ],
   "source": [
    "print(''' \"Teacher's Day\" ''')"
   ]
  },
  {
   "cell_type": "markdown",
   "id": "8ba3a22b",
   "metadata": {},
   "source": [
    "8. Write a python script to print the value of a variable. Variable contains your name as\n",
    "   data."
   ]
  },
  {
   "cell_type": "code",
   "execution_count": 15,
   "id": "6443c12c",
   "metadata": {},
   "outputs": [
    {
     "name": "stdout",
     "output_type": "stream",
     "text": [
      "Vinay Kumar Yadav\n"
     ]
    }
   ],
   "source": [
    "a = \"Vinay Kumar Yadav\"\n",
    "print(a)"
   ]
  },
  {
   "cell_type": "markdown",
   "id": "4ebbcaf1",
   "metadata": {},
   "source": [
    "9. Write a python script to create variables to store your name, age, qualification, years\n",
    "   of experience and print it."
   ]
  },
  {
   "cell_type": "code",
   "execution_count": 33,
   "id": "74241b8b",
   "metadata": {},
   "outputs": [
    {
     "name": "stdout",
     "output_type": "stream",
     "text": [
      "Vinay Kumar Yadav\n",
      "21\n",
      "B-Tech\n",
      "fresher\n"
     ]
    }
   ],
   "source": [
    "name = \"Vinay Kumar Yadav\"\n",
    "age = 21\n",
    "qualification = 'B-Tech'\n",
    "experience = \"fresher\"\n",
    "print(name,age,qualification,experience,sep=\"\\n\")"
   ]
  },
  {
   "cell_type": "markdown",
   "id": "46e192e0",
   "metadata": {},
   "source": [
    "10. Write a python script to print values of three variables, each in a new line. Variable\n",
    "contains integer values"
   ]
  },
  {
   "cell_type": "code",
   "execution_count": 31,
   "id": "58346105",
   "metadata": {},
   "outputs": [
    {
     "name": "stdout",
     "output_type": "stream",
     "text": [
      "21\n",
      "56\n",
      "75\n"
     ]
    }
   ],
   "source": [
    "a = 21\n",
    "b = 56\n",
    "c = 75\n",
    "print(a,b,c,sep='\\n')"
   ]
  }
 ],
 "metadata": {
  "kernelspec": {
   "display_name": "Python 3 (ipykernel)",
   "language": "python",
   "name": "python3"
  },
  "language_info": {
   "codemirror_mode": {
    "name": "ipython",
    "version": 3
   },
   "file_extension": ".py",
   "mimetype": "text/x-python",
   "name": "python",
   "nbconvert_exporter": "python",
   "pygments_lexer": "ipython3",
   "version": "3.9.12"
  }
 },
 "nbformat": 4,
 "nbformat_minor": 5
}
