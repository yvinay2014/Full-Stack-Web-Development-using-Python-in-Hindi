{
 "cells": [
  {
   "cell_type": "markdown",
   "id": "26550d1f",
   "metadata": {},
   "source": [
    "1. Write a python script to check whether a given number is positive or non-positive"
   ]
  },
  {
   "cell_type": "code",
   "execution_count": 3,
   "id": "84dcaaf9",
   "metadata": {},
   "outputs": [
    {
     "name": "stdout",
     "output_type": "stream",
     "text": [
      "Enter a num: 1\n",
      "positive\n"
     ]
    }
   ],
   "source": [
    "print(\"positive\" if int(input(\"Enter a num: \"))>0 else \"non-positive\")"
   ]
  },
  {
   "cell_type": "markdown",
   "id": "4e49104a",
   "metadata": {},
   "source": [
    "2. Write a python script to check whether a given number is divisible by 5 or not."
   ]
  },
  {
   "cell_type": "code",
   "execution_count": 6,
   "id": "c43862a4",
   "metadata": {},
   "outputs": [
    {
     "name": "stdout",
     "output_type": "stream",
     "text": [
      "Enter a num: 45\n",
      "divisible by 5\n"
     ]
    }
   ],
   "source": [
    "print(\"divisible by 5\" if int(input(\"Enter a num: \"))%5==0 else \"not divisible by 5\")"
   ]
  },
  {
   "cell_type": "markdown",
   "id": "c2abc465",
   "metadata": {},
   "source": [
    "3. Write a python script to check whether a given number is even or odd"
   ]
  },
  {
   "cell_type": "code",
   "execution_count": 8,
   "id": "ccfae787",
   "metadata": {},
   "outputs": [
    {
     "name": "stdout",
     "output_type": "stream",
     "text": [
      "Enter a num: 3\n",
      "odd number\n"
     ]
    }
   ],
   "source": [
    "print(\"num is even\" if int(input(\"Enter a num: \"))%2==0 else \"odd number\")"
   ]
  },
  {
   "cell_type": "markdown",
   "id": "7d291189",
   "metadata": {},
   "source": [
    "4. Write a python script to print greater between two numbers. Print number only once\n",
    "even if the numbers are the same."
   ]
  },
  {
   "cell_type": "code",
   "execution_count": 11,
   "id": "878270ec",
   "metadata": {},
   "outputs": [
    {
     "name": "stdout",
     "output_type": "stream",
     "text": [
      "Enter first num: 45\n",
      "Enter second num: 54\n",
      "54\n"
     ]
    }
   ],
   "source": [
    "a = int(input(\"Enter first num: \"))\n",
    "b = int(input(\"Enter second num: \"))\n",
    "if a == b:\n",
    "    print(\"num is same i.e %d\"%a)\n",
    "else:\n",
    "    if a>b:\n",
    "        print(a)\n",
    "    else:\n",
    "        print(b)"
   ]
  },
  {
   "cell_type": "markdown",
   "id": "c993a664",
   "metadata": {},
   "source": [
    "5. Write a python script to print two given words in dictionary order."
   ]
  },
  {
   "cell_type": "code",
   "execution_count": 16,
   "id": "f098f2fd",
   "metadata": {},
   "outputs": [
    {
     "name": "stdout",
     "output_type": "stream",
     "text": [
      "Enter comma separated word: dog,apple\n",
      "['apple', 'dog']\n"
     ]
    }
   ],
   "source": [
    "x = input(\"Enter comma separated word: \").split(\",\")\n",
    "print(sorted(x))"
   ]
  },
  {
   "cell_type": "markdown",
   "id": "608e3802",
   "metadata": {},
   "source": [
    "6. Write a python script to check whether a given number is a three digit number or not."
   ]
  },
  {
   "cell_type": "code",
   "execution_count": 9,
   "id": "3389c41b",
   "metadata": {},
   "outputs": [
    {
     "name": "stdout",
     "output_type": "stream",
     "text": [
      "Enter the num: 456\n",
      "Three digit num\n"
     ]
    }
   ],
   "source": [
    "num = int(input(\"Enter the num: \"))\n",
    "print(\"Three digit num\" if (num >= 100 and num <= 999) else \"Not a three digit num\")  "
   ]
  },
  {
   "cell_type": "markdown",
   "id": "90e6fd7e",
   "metadata": {},
   "source": [
    "7. Write a python script to check whether a given number is positive, negative or zero."
   ]
  },
  {
   "cell_type": "code",
   "execution_count": 14,
   "id": "8d896f3e",
   "metadata": {},
   "outputs": [
    {
     "name": "stdout",
     "output_type": "stream",
     "text": [
      "Enter a number: 25\n",
      "Positive number\n"
     ]
    }
   ],
   "source": [
    "num = int(input(\"Enter a number: \"))\n",
    "if num>0:\n",
    "    print(\"Positive number\")\n",
    "elif num<0:\n",
    "    print(\"Negative number\")\n",
    "else:\n",
    "    print(\"Zero\")"
   ]
  },
  {
   "cell_type": "markdown",
   "id": "59a21861",
   "metadata": {},
   "source": [
    "8. Write a python script to check whether a given quadratic equation has two real &\n",
    "   distinct roots, real & equal roots or imaginary roots."
   ]
  },
  {
   "cell_type": "code",
   "execution_count": 1,
   "id": "ecc566a5",
   "metadata": {},
   "outputs": [
    {
     "name": "stdout",
     "output_type": "stream",
     "text": [
      "Enter the cofficient of x^2 as a , x as b and constant c of quadratic equation: \n",
      "Enter the value of a: 5\n",
      "Enter the value of b: 6\n",
      "Enter the value of c: 2\n",
      "imaginary roots\n"
     ]
    }
   ],
   "source": [
    "print(\"Enter the cofficient of x^2 as a , x as b and constant c of quadratic equation: \")\n",
    "a,b,c = int(input(\"Enter the value of a: \")),int(input(\"Enter the value of b: \")),int(input(\"Enter the value of c: \"))\n",
    "d = b**2-4*a*c\n",
    "if d>0:\n",
    "    print(\"Real and distinct roots\")\n",
    "if d<0:\n",
    "    print(\"imaginary roots\")\n",
    "else:\n",
    "    print(\"Real and equal roots\")\n"
   ]
  },
  {
   "cell_type": "markdown",
   "id": "ab3f210d",
   "metadata": {},
   "source": [
    "9. Write a python script to check whether a given year is a leap year or not."
   ]
  },
  {
   "cell_type": "code",
   "execution_count": 12,
   "id": "8f844e23",
   "metadata": {},
   "outputs": [
    {
     "name": "stdout",
     "output_type": "stream",
     "text": [
      "Enter the value of year: 2024\n",
      "Leap\n"
     ]
    }
   ],
   "source": [
    "year = int(input(\"Enter the value of year: \"))\n",
    "print(\"Leap\" if ((year%100==0 and year%400==0) or (year%100!=0 and year%4 ==0)) else \"Not leap\")"
   ]
  },
  {
   "cell_type": "markdown",
   "id": "2daec359",
   "metadata": {},
   "source": [
    "10. Write a python script to print greater among three numbers. Print number only once\n",
    "    even if the numbers are the same."
   ]
  },
  {
   "cell_type": "code",
   "execution_count": 27,
   "id": "9c8fd5b4",
   "metadata": {},
   "outputs": [
    {
     "name": "stdout",
     "output_type": "stream",
     "text": [
      "Enter 1st num: 45\n",
      "Enter 2nd num: 46\n",
      "Enter 3rd num: 48\n",
      "Greatest num is 48\n"
     ]
    }
   ],
   "source": [
    "a,b,c = int(input(\"Enter 1st num: \")),int(input(\"Enter 2nd num: \")),int(input(\"Enter 3rd num: \"))\n",
    "if a==b==c:\n",
    "    print(a)\n",
    "elif a>b and a>c:\n",
    "    print(\"Greatest num is %d\"%a)\n",
    "elif b>a and b>c:\n",
    "    print(\"Greatest num is %d\"%b)\n",
    "else:\n",
    "    print(\"Greatest num is %d\"%c)\n",
    "    "
   ]
  },
  {
   "cell_type": "markdown",
   "id": "fecf436f",
   "metadata": {},
   "source": [
    "11. Write a python script to take the month value in numeric format and display the\n",
    "number of days in it."
   ]
  },
  {
   "cell_type": "code",
   "execution_count": 2,
   "id": "63beeb4a",
   "metadata": {},
   "outputs": [
    {
     "name": "stdout",
     "output_type": "stream",
     "text": [
      "Enter the month value in numeric term to display the number of days in it: 12\n",
      "December 31 days\n"
     ]
    }
   ],
   "source": [
    "x = int(input(\"Enter the month value in numeric term to display the number of days in it: \"))\n",
    "match x:\n",
    "    case 1:\n",
    "        print(\"January 31 days\")\n",
    "    case 2:\n",
    "        print(\"Febraury 28/29 days\")\n",
    "    case 3:\n",
    "        print(\"March 31 days\")\n",
    "    case 4:\n",
    "        print(\"April 30 days\")  \n",
    "    case 5:\n",
    "        print(\"May 31 days\")\n",
    "    case 6:\n",
    "        print(\"June 30 days\")\n",
    "    case 7:\n",
    "        print(\"July 31 days\")\n",
    "    case 8:\n",
    "        print(\"August 31 days\")\n",
    "    case 9:\n",
    "        print(\"September 30 days\")\n",
    "    case 10:\n",
    "        print(\"October 31 days\")\n",
    "    case 11:\n",
    "        print(\"November 30 days\")\n",
    "    case 12:\n",
    "        print(\"December 31 days\")               "
   ]
  },
  {
   "cell_type": "markdown",
   "id": "eb5b04e5",
   "metadata": {},
   "source": [
    "12. Write a python script to accept one complex number from the user and display the\n",
    "greater number between real part and imaginary part."
   ]
  },
  {
   "cell_type": "code",
   "execution_count": 7,
   "id": "09ebc0ca",
   "metadata": {},
   "outputs": [
    {
     "name": "stdout",
     "output_type": "stream",
     "text": [
      "Enter a complex number: 4+3j\n",
      "4.0\n"
     ]
    }
   ],
   "source": [
    "num = eval(input(\"Enter a complex number: \"))\n",
    "print(num.real if num.real > num.imag else num.imag)"
   ]
  }
 ],
 "metadata": {
  "kernelspec": {
   "display_name": "Python 3 (ipykernel)",
   "language": "python",
   "name": "python3"
  },
  "language_info": {
   "codemirror_mode": {
    "name": "ipython",
    "version": 3
   },
   "file_extension": ".py",
   "mimetype": "text/x-python",
   "name": "python",
   "nbconvert_exporter": "python",
   "pygments_lexer": "ipython3",
   "version": "3.10.6"
  }
 },
 "nbformat": 4,
 "nbformat_minor": 5
}
