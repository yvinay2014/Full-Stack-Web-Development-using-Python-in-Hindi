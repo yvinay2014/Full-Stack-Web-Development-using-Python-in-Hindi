{
 "cells": [
  {
   "cell_type": "markdown",
   "id": "451db78f",
   "metadata": {},
   "source": [
    "1. Write a python script to print MySirG N times on the screen"
   ]
  },
  {
   "cell_type": "code",
   "execution_count": 3,
   "id": "a23648cd",
   "metadata": {},
   "outputs": [
    {
     "name": "stdout",
     "output_type": "stream",
     "text": [
      "Enter the value of n5\n",
      "MySirG\n",
      "MySirG\n",
      "MySirG\n",
      "MySirG\n",
      "MySirG\n"
     ]
    }
   ],
   "source": [
    "n = int(input(\"Enter the value of n\"))\n",
    "for i in range(n):\n",
    "    print(\"MySirG\")"
   ]
  },
  {
   "cell_type": "markdown",
   "id": "72760749",
   "metadata": {},
   "source": [
    "2. Write a python script to print first N natural numbers"
   ]
  },
  {
   "cell_type": "code",
   "execution_count": 8,
   "id": "f0acab3a",
   "metadata": {},
   "outputs": [
    {
     "name": "stdout",
     "output_type": "stream",
     "text": [
      "Enter the value of n: 15\n",
      "1 2 3 4 5 6 7 8 9 10 11 12 13 14 15 "
     ]
    }
   ],
   "source": [
    "n = int(input(\"Enter the value of n: \"))\n",
    "for i in range(1,n+1):\n",
    "    print(i,end=\" \")"
   ]
  },
  {
   "cell_type": "markdown",
   "id": "8a37689d",
   "metadata": {},
   "source": [
    "3. Write a python script to print first N natural numbers in reverse order"
   ]
  },
  {
   "cell_type": "code",
   "execution_count": 9,
   "id": "29df05b5",
   "metadata": {},
   "outputs": [
    {
     "name": "stdout",
     "output_type": "stream",
     "text": [
      "Enter the value of n: 15\n",
      "15 14 13 12 11 10 9 8 7 6 5 4 3 2 1 "
     ]
    }
   ],
   "source": [
    "n = int(input(\"Enter the value of n: \"))\n",
    "for i in range(n,0,-1):\n",
    "    print(i,end=\" \")"
   ]
  },
  {
   "cell_type": "markdown",
   "id": "b9f8bf44",
   "metadata": {},
   "source": [
    "4. Write a python script to print first N odd natural numbers"
   ]
  },
  {
   "cell_type": "code",
   "execution_count": 11,
   "id": "e34b256f",
   "metadata": {},
   "outputs": [
    {
     "name": "stdout",
     "output_type": "stream",
     "text": [
      "Enter the value of n: 15\n",
      "1 3 5 7 9 11 13 15 17 19 21 23 25 27 29 31 "
     ]
    }
   ],
   "source": [
    "n = int(input(\"Enter the value of n: \"))\n",
    "for i in range(0,n+1):\n",
    "    print(2*i+1,end=\" \")"
   ]
  },
  {
   "cell_type": "markdown",
   "id": "afec9757",
   "metadata": {},
   "source": [
    "5. Write a python script to print first N odd natural numbers in reverse order"
   ]
  },
  {
   "cell_type": "code",
   "execution_count": 22,
   "id": "2585f0db",
   "metadata": {},
   "outputs": [
    {
     "name": "stdout",
     "output_type": "stream",
     "text": [
      "Enter the value of n: 15\n",
      "31 29 27 25 23 21 19 17 15 13 11 9 7 5 3 1 "
     ]
    }
   ],
   "source": [
    "n = int(input(\"Enter the value of n: \"))\n",
    "for i in range(n,-1,-1):\n",
    "    print(2*i+1,end=\" \")"
   ]
  },
  {
   "cell_type": "markdown",
   "id": "074a399c",
   "metadata": {},
   "source": [
    "6. Write a python script to print first N even natural numbers"
   ]
  },
  {
   "cell_type": "code",
   "execution_count": 16,
   "id": "5952fc40",
   "metadata": {},
   "outputs": [
    {
     "name": "stdout",
     "output_type": "stream",
     "text": [
      "Enter the value of n: 15\n",
      "2 4 6 8 10 12 14 16 18 20 22 24 26 28 30 "
     ]
    }
   ],
   "source": [
    "n = int(input(\"Enter the value of n: \"))\n",
    "for i in range(1,n+1):\n",
    "    print(2*i,end=\" \")"
   ]
  },
  {
   "cell_type": "markdown",
   "id": "503bcbd3",
   "metadata": {},
   "source": [
    "7. Write a python script to print first N even natural numbers in reverse order"
   ]
  },
  {
   "cell_type": "code",
   "execution_count": 17,
   "id": "f42a9e5c",
   "metadata": {},
   "outputs": [
    {
     "name": "stdout",
     "output_type": "stream",
     "text": [
      "Enter the value of n: 15\n",
      "30 28 26 24 22 20 18 16 14 12 10 8 6 4 2 "
     ]
    }
   ],
   "source": [
    "n = int(input(\"Enter the value of n: \"))\n",
    "for i in range(n,0,-1):\n",
    "    print(2*i,end=\" \")"
   ]
  },
  {
   "cell_type": "markdown",
   "id": "b361cb0a",
   "metadata": {},
   "source": [
    "8. Write a python script to print squares of first N natural numbers"
   ]
  },
  {
   "cell_type": "code",
   "execution_count": 18,
   "id": "02a534e4",
   "metadata": {},
   "outputs": [
    {
     "name": "stdout",
     "output_type": "stream",
     "text": [
      "Enter the value of n: 15\n",
      "1 4 9 16 25 36 49 64 81 100 121 144 169 196 225 "
     ]
    }
   ],
   "source": [
    "n = int(input(\"Enter the value of n: \"))\n",
    "for i in range(1,n+1):\n",
    "    print(i**2,end=\" \")"
   ]
  },
  {
   "cell_type": "markdown",
   "id": "acd6da95",
   "metadata": {},
   "source": [
    "9. Write a python script to print cubes of first N natural numbers"
   ]
  },
  {
   "cell_type": "code",
   "execution_count": 19,
   "id": "2f87ca8e",
   "metadata": {},
   "outputs": [
    {
     "name": "stdout",
     "output_type": "stream",
     "text": [
      "Enter the value of n: 15\n",
      "1 8 27 64 125 216 343 512 729 1000 1331 1728 2197 2744 3375 "
     ]
    }
   ],
   "source": [
    "n = int(input(\"Enter the value of n: \"))\n",
    "for i in range(1,n+1):\n",
    "    print(i**3,end=\" \")"
   ]
  },
  {
   "cell_type": "markdown",
   "id": "d27f515b",
   "metadata": {},
   "source": [
    "10. Write a python script to print first 10 multiples of N"
   ]
  },
  {
   "cell_type": "code",
   "execution_count": 21,
   "id": "a33175eb",
   "metadata": {},
   "outputs": [
    {
     "name": "stdout",
     "output_type": "stream",
     "text": [
      "Enter the value of n: 10\n",
      "10 20 30 40 50 60 70 80 90 100 "
     ]
    }
   ],
   "source": [
    "n = int(input(\"Enter the value of n: \"))\n",
    "for i in range(1,11):\n",
    "    print(i*n,end=\" \")"
   ]
  }
 ],
 "metadata": {
  "kernelspec": {
   "display_name": "Python 3 (ipykernel)",
   "language": "python",
   "name": "python3"
  },
  "language_info": {
   "codemirror_mode": {
    "name": "ipython",
    "version": 3
   },
   "file_extension": ".py",
   "mimetype": "text/x-python",
   "name": "python",
   "nbconvert_exporter": "python",
   "pygments_lexer": "ipython3",
   "version": "3.10.6"
  }
 },
 "nbformat": 4,
 "nbformat_minor": 5
}
