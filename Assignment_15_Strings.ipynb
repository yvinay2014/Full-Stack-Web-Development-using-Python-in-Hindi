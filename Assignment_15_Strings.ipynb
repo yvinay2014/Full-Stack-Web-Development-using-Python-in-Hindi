{
 "cells": [
  {
   "cell_type": "markdown",
   "id": "1a1eb2b1",
   "metadata": {},
   "source": [
    "1. Write a python script to create a String in 3 different possible ways."
   ]
  },
  {
   "cell_type": "code",
   "execution_count": 3,
   "id": "731b2b16",
   "metadata": {},
   "outputs": [
    {
     "name": "stdout",
     "output_type": "stream",
     "text": [
      "Vinay kumar yadav\n",
      "vinay kumar yadav\n",
      "vinay kumar yadav\n",
      "\"Teacher's day\"\n"
     ]
    }
   ],
   "source": [
    "a = \"Vinay kumar yadav\"\n",
    "b = 'vinay kumar yadav'\n",
    "c = \"\"\"vinay kumar yadav\"\"\"\n",
    "d = \"\\\"Teacher's day\\\"\"\n",
    "print(a,b,c,d,sep=\"\\n\")"
   ]
  },
  {
   "cell_type": "markdown",
   "id": "41470e8f",
   "metadata": {},
   "source": [
    "2. Write a python script to Get the characters from the start to position 5 (Given String\n",
    "“iNeuron” using the slice syntax)"
   ]
  },
  {
   "cell_type": "code",
   "execution_count": 16,
   "id": "32cd7789",
   "metadata": {},
   "outputs": [
    {
     "name": "stdout",
     "output_type": "stream",
     "text": [
      "iNeuro\n"
     ]
    }
   ],
   "source": [
    "a = \"iNeuron\"\n",
    "print(a[:6])"
   ]
  },
  {
   "cell_type": "markdown",
   "id": "aff04e3b",
   "metadata": {},
   "source": [
    "3. Write a python script to Get the characters from position 2 to position 5 (Given String\n",
    "“Hello Learners” using the slice syntax)"
   ]
  },
  {
   "cell_type": "code",
   "execution_count": 17,
   "id": "8500a2ed",
   "metadata": {},
   "outputs": [
    {
     "name": "stdout",
     "output_type": "stream",
     "text": [
      "llo \n"
     ]
    }
   ],
   "source": [
    "a =\"Hello Learners\"\n",
    "print(a[2:6:])"
   ]
  },
  {
   "cell_type": "markdown",
   "id": "ddedf790",
   "metadata": {},
   "source": [
    "4. Write a python script to demonstrate String Concatenation adding space in between (\n",
    "Given Strings a=”Learning” b=”Python” )"
   ]
  },
  {
   "cell_type": "code",
   "execution_count": 20,
   "id": "590dd31e",
   "metadata": {},
   "outputs": [
    {
     "name": "stdout",
     "output_type": "stream",
     "text": [
      "Learning Python\n"
     ]
    }
   ],
   "source": [
    "a=\"Learning\"\n",
    "b=\" Python\"\n",
    "print(a+b)"
   ]
  },
  {
   "cell_type": "markdown",
   "id": "b894897b",
   "metadata": {},
   "source": [
    "5. Write a python script to get the count of total number of characters in String a=\n",
    "“iNeuron”"
   ]
  },
  {
   "cell_type": "code",
   "execution_count": 25,
   "id": "ef96da5d",
   "metadata": {},
   "outputs": [
    {
     "name": "stdout",
     "output_type": "stream",
     "text": [
      "7\n"
     ]
    }
   ],
   "source": [
    "a = \"iNeuron\"\n",
    "print(len(a))"
   ]
  },
  {
   "cell_type": "markdown",
   "id": "bdda830d",
   "metadata": {},
   "source": [
    "6. Write a python script to reverse a String. (“iNeuron”)"
   ]
  },
  {
   "cell_type": "code",
   "execution_count": 29,
   "id": "0b35a11c",
   "metadata": {},
   "outputs": [
    {
     "name": "stdout",
     "output_type": "stream",
     "text": [
      "norueNi\n"
     ]
    }
   ],
   "source": [
    "a = \"iNeuron\"\n",
    "print(a[::-1])"
   ]
  },
  {
   "cell_type": "markdown",
   "id": "587d4c0d",
   "metadata": {},
   "source": [
    "7. Write a python script to determine whether a string contains a specific substring."
   ]
  },
  {
   "cell_type": "code",
   "execution_count": 41,
   "id": "f117bac2",
   "metadata": {},
   "outputs": [
    {
     "name": "stdout",
     "output_type": "stream",
     "text": [
      "found substring in full_string\n"
     ]
    }
   ],
   "source": [
    "full_string = \"MysirG Education Services\"\n",
    "sub_string = \"sir\"\n",
    "print(\"found substring in full_string\" if sub_string in full_string else \"Not found substring in full string\")"
   ]
  },
  {
   "cell_type": "markdown",
   "id": "33ed8c41",
   "metadata": {},
   "source": [
    "8. Write a python script to check if a string contains only numbers."
   ]
  },
  {
   "cell_type": "code",
   "execution_count": 33,
   "id": "1551579c",
   "metadata": {},
   "outputs": [
    {
     "name": "stdout",
     "output_type": "stream",
     "text": [
      "True\n",
      "False\n"
     ]
    }
   ],
   "source": [
    "a = \"123456\"\n",
    "b = \"iNeuron\"\n",
    "print(a.isnumeric())\n",
    "print(b.isnumeric())"
   ]
  },
  {
   "cell_type": "markdown",
   "id": "3664ebee",
   "metadata": {},
   "source": [
    "9. Write a python script to check if a string contains only characters of the alphabet."
   ]
  },
  {
   "cell_type": "code",
   "execution_count": 34,
   "id": "21bf702f",
   "metadata": {},
   "outputs": [
    {
     "name": "stdout",
     "output_type": "stream",
     "text": [
      "False\n",
      "True\n"
     ]
    }
   ],
   "source": [
    "a = \"123456\"\n",
    "b = \"iNeuron\"\n",
    "print(a.isalpha())\n",
    "print(b.isalpha())"
   ]
  },
  {
   "cell_type": "markdown",
   "id": "655638e9",
   "metadata": {},
   "source": [
    "10. Write a python script to convert an integer to a string."
   ]
  },
  {
   "cell_type": "code",
   "execution_count": 39,
   "id": "1c82eae3",
   "metadata": {},
   "outputs": [
    {
     "name": "stdout",
     "output_type": "stream",
     "text": [
      "<class 'str'>\n"
     ]
    }
   ],
   "source": [
    "a = str(98745632145)\n",
    "print(type(a))"
   ]
  }
 ],
 "metadata": {
  "kernelspec": {
   "display_name": "Python 3 (ipykernel)",
   "language": "python",
   "name": "python3"
  },
  "language_info": {
   "codemirror_mode": {
    "name": "ipython",
    "version": 3
   },
   "file_extension": ".py",
   "mimetype": "text/x-python",
   "name": "python",
   "nbconvert_exporter": "python",
   "pygments_lexer": "ipython3",
   "version": "3.10.6"
  }
 },
 "nbformat": 4,
 "nbformat_minor": 5
}
