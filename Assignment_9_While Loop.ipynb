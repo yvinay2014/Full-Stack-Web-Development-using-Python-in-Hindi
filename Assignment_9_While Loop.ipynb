{
 "cells": [
  {
   "cell_type": "markdown",
   "id": "b5f7b890",
   "metadata": {},
   "source": [
    "1. Write a python script to print MySirG N times on the screen"
   ]
  },
  {
   "cell_type": "code",
   "execution_count": 1,
   "id": "68188bce",
   "metadata": {},
   "outputs": [
    {
     "name": "stdout",
     "output_type": "stream",
     "text": [
      "Enter the number: 5\n",
      "MySirG\n",
      "MySirG\n",
      "MySirG\n",
      "MySirG\n",
      "MySirG\n"
     ]
    }
   ],
   "source": [
    "n = int(input(\"Enter the number: \"))\n",
    "i = 1\n",
    "while i<=n:\n",
    "    print(\"MySirG\")\n",
    "    i+=1"
   ]
  },
  {
   "cell_type": "markdown",
   "id": "55858653",
   "metadata": {},
   "source": [
    "2. Write a python script to print first N natural numbers"
   ]
  },
  {
   "cell_type": "code",
   "execution_count": 3,
   "id": "68b4edaa",
   "metadata": {},
   "outputs": [
    {
     "name": "stdout",
     "output_type": "stream",
     "text": [
      "Enter the number: 10\n",
      "1 2 3 4 5 6 7 8 9 10 "
     ]
    }
   ],
   "source": [
    "n = int(input(\"Enter the number: \"))\n",
    "i = 1\n",
    "while i<=n:\n",
    "    print(i,end=\" \")\n",
    "    i+=1"
   ]
  },
  {
   "cell_type": "markdown",
   "id": "eef1eb11",
   "metadata": {},
   "source": [
    "3. Write a python script to print first N natural numbers in reverse order"
   ]
  },
  {
   "cell_type": "code",
   "execution_count": 6,
   "id": "9bd9103d",
   "metadata": {},
   "outputs": [
    {
     "name": "stdout",
     "output_type": "stream",
     "text": [
      "Enter the number: 20\n",
      "20 19 18 17 16 15 14 13 12 11 10 9 8 7 6 5 4 3 2 1 "
     ]
    }
   ],
   "source": [
    "n = int(input(\"Enter the number: \"))\n",
    "i = 1\n",
    "while i<=n:\n",
    "    print(n-i+1,end=\" \")\n",
    "    i+=1"
   ]
  },
  {
   "cell_type": "markdown",
   "id": "fd0ab53d",
   "metadata": {},
   "source": [
    "4. Write a python script to print first N odd natural numbers"
   ]
  },
  {
   "cell_type": "code",
   "execution_count": 8,
   "id": "516b2e60",
   "metadata": {},
   "outputs": [
    {
     "name": "stdout",
     "output_type": "stream",
     "text": [
      "Enter the number: 20\n",
      "3 5 7 9 11 13 15 17 19 21 23 25 27 29 31 33 35 37 39 41 "
     ]
    }
   ],
   "source": [
    "n = int(input(\"Enter the number: \"))\n",
    "i = 1\n",
    "while i<=n:\n",
    "    print(2*i+1,end=\" \")\n",
    "    i+=1"
   ]
  },
  {
   "cell_type": "markdown",
   "id": "52fb624a",
   "metadata": {},
   "source": [
    "5. Write a python script to print first N odd natural numbers in reverse order"
   ]
  },
  {
   "cell_type": "code",
   "execution_count": 13,
   "id": "775ff4ff",
   "metadata": {},
   "outputs": [
    {
     "name": "stdout",
     "output_type": "stream",
     "text": [
      "Enter the number: 10\n",
      "21 19 17 15 13 11 9 7 5 3 "
     ]
    }
   ],
   "source": [
    "n = int(input(\"Enter the number: \"))\n",
    "i = n\n",
    "while i>=1:\n",
    "    print(2*i+1,end=\" \")\n",
    "    i-=1"
   ]
  },
  {
   "cell_type": "markdown",
   "id": "d1e7b16b",
   "metadata": {},
   "source": [
    "6. Write a python script to print first N even natural numbers"
   ]
  },
  {
   "cell_type": "code",
   "execution_count": 14,
   "id": "f9030675",
   "metadata": {},
   "outputs": [
    {
     "name": "stdout",
     "output_type": "stream",
     "text": [
      "Enter the number: 10\n",
      "2 4 6 8 10 12 14 16 18 20 "
     ]
    }
   ],
   "source": [
    "n = int(input(\"Enter the number: \"))\n",
    "i = 1\n",
    "while i<=n:\n",
    "    print(2*i,end=\" \")\n",
    "    i+=1"
   ]
  },
  {
   "cell_type": "markdown",
   "id": "b0a5626a",
   "metadata": {},
   "source": [
    "7. Write a python script to print first N even natural numbers in reverse order"
   ]
  },
  {
   "cell_type": "code",
   "execution_count": 15,
   "id": "427c206e",
   "metadata": {},
   "outputs": [
    {
     "name": "stdout",
     "output_type": "stream",
     "text": [
      "Enter the number: 25\n",
      "50 48 46 44 42 40 38 36 34 32 30 28 26 24 22 20 18 16 14 12 10 8 6 4 2 "
     ]
    }
   ],
   "source": [
    "n = int(input(\"Enter the number: \"))\n",
    "i = n\n",
    "while i>=1:\n",
    "    print(2*i,end=\" \")\n",
    "    i-=1"
   ]
  },
  {
   "cell_type": "markdown",
   "id": "3627c22a",
   "metadata": {},
   "source": [
    "8. Write a python script to print squares of first N natural numbers"
   ]
  },
  {
   "cell_type": "code",
   "execution_count": 16,
   "id": "ea7c9e3c",
   "metadata": {},
   "outputs": [
    {
     "name": "stdout",
     "output_type": "stream",
     "text": [
      "Enter the number: 12\n",
      "1 4 9 16 25 36 49 64 81 100 121 144 "
     ]
    }
   ],
   "source": [
    "n = int(input(\"Enter the number: \"))\n",
    "i = 1\n",
    "while i<=n:\n",
    "    print(i**2,end=\" \")\n",
    "    i+=1"
   ]
  },
  {
   "cell_type": "markdown",
   "id": "97ab1871",
   "metadata": {},
   "source": [
    "9. Write a python script to print cubes of first N natural numbers"
   ]
  },
  {
   "cell_type": "code",
   "execution_count": 17,
   "id": "3e8d1840",
   "metadata": {},
   "outputs": [
    {
     "name": "stdout",
     "output_type": "stream",
     "text": [
      "Enter the number: 12\n",
      "1 8 27 64 125 216 343 512 729 1000 1331 1728 "
     ]
    }
   ],
   "source": [
    "n = int(input(\"Enter the number: \"))\n",
    "i = 1\n",
    "while i<=n:\n",
    "    print(i**3,end=\" \")\n",
    "    i+=1"
   ]
  },
  {
   "cell_type": "markdown",
   "id": "dc969fa1",
   "metadata": {},
   "source": [
    "10. Write a python script to print first 10 multiples of N"
   ]
  },
  {
   "cell_type": "code",
   "execution_count": 19,
   "id": "c4d49802",
   "metadata": {},
   "outputs": [
    {
     "name": "stdout",
     "output_type": "stream",
     "text": [
      "Enter the number: 9\n",
      "9 18 27 36 45 54 63 72 81 90 "
     ]
    }
   ],
   "source": [
    "n = int(input(\"Enter the number: \"))\n",
    "i = 1\n",
    "while i<=10:\n",
    "    print(n*i,end=\" \")\n",
    "    i+=1"
   ]
  }
 ],
 "metadata": {
  "kernelspec": {
   "display_name": "Python 3 (ipykernel)",
   "language": "python",
   "name": "python3"
  },
  "language_info": {
   "codemirror_mode": {
    "name": "ipython",
    "version": 3
   },
   "file_extension": ".py",
   "mimetype": "text/x-python",
   "name": "python",
   "nbconvert_exporter": "python",
   "pygments_lexer": "ipython3",
   "version": "3.10.6"
  }
 },
 "nbformat": 4,
 "nbformat_minor": 5
}
