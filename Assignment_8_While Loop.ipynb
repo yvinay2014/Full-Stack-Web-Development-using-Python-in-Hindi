{
 "cells": [
  {
   "cell_type": "markdown",
   "id": "2390b64c",
   "metadata": {},
   "source": [
    "1. Write a python script to print MySirG 5 times on the screen"
   ]
  },
  {
   "cell_type": "code",
   "execution_count": 1,
   "id": "888194e8",
   "metadata": {},
   "outputs": [
    {
     "name": "stdout",
     "output_type": "stream",
     "text": [
      "MySirG\n",
      "MySirG\n",
      "MySirG\n",
      "MySirG\n",
      "MySirG\n"
     ]
    }
   ],
   "source": [
    "i = 1\n",
    "while i <= 5:\n",
    "    print(\"MySirG\")\n",
    "    i+=1"
   ]
  },
  {
   "cell_type": "markdown",
   "id": "bda920c2",
   "metadata": {},
   "source": [
    "2. Write a python script to print first 10 natural numbers"
   ]
  },
  {
   "cell_type": "code",
   "execution_count": 2,
   "id": "75655cca",
   "metadata": {},
   "outputs": [
    {
     "name": "stdout",
     "output_type": "stream",
     "text": [
      "1 2 3 4 5 6 7 8 9 10 "
     ]
    }
   ],
   "source": [
    "i = 1\n",
    "while i <= 10:\n",
    "    print(i,end=\" \")\n",
    "    i+=1"
   ]
  },
  {
   "cell_type": "markdown",
   "id": "cfdf11b0",
   "metadata": {},
   "source": [
    "3. Write a python script to print first 10 natural numbers in reverse order"
   ]
  },
  {
   "cell_type": "code",
   "execution_count": 3,
   "id": "1dda8ec1",
   "metadata": {},
   "outputs": [
    {
     "name": "stdout",
     "output_type": "stream",
     "text": [
      "10 9 8 7 6 5 4 3 2 1 "
     ]
    }
   ],
   "source": [
    "i = 1\n",
    "while i <= 10:\n",
    "    print(11-i,end=\" \")\n",
    "    i+=1"
   ]
  },
  {
   "cell_type": "markdown",
   "id": "048ec2de",
   "metadata": {},
   "source": [
    "4. Write a python script to print first 10 odd natural numbers"
   ]
  },
  {
   "cell_type": "code",
   "execution_count": 6,
   "id": "77d67815",
   "metadata": {},
   "outputs": [
    {
     "name": "stdout",
     "output_type": "stream",
     "text": [
      "1 3 5 7 9 11 13 15 17 19 "
     ]
    }
   ],
   "source": [
    "i = 0\n",
    "while i <= 9:\n",
    "    print(2*i+1,end=\" \")\n",
    "    i+=1"
   ]
  },
  {
   "cell_type": "markdown",
   "id": "5accecca",
   "metadata": {},
   "source": [
    "5. Write a python script to print first 10 odd natural numbers in reverse order"
   ]
  },
  {
   "cell_type": "code",
   "execution_count": 9,
   "id": "0207393e",
   "metadata": {},
   "outputs": [
    {
     "name": "stdout",
     "output_type": "stream",
     "text": [
      "19 17 15 13 11 9 7 5 3 1 "
     ]
    }
   ],
   "source": [
    "i = 9\n",
    "while i >= 0:\n",
    "    print(2*i+1,end=\" \")\n",
    "    i-=1"
   ]
  },
  {
   "cell_type": "markdown",
   "id": "d02576ee",
   "metadata": {},
   "source": [
    "6. Write a python script to print first 10 even natural numbers"
   ]
  },
  {
   "cell_type": "code",
   "execution_count": 11,
   "id": "d951e663",
   "metadata": {},
   "outputs": [
    {
     "name": "stdout",
     "output_type": "stream",
     "text": [
      "2 4 6 8 10 12 14 16 18 20 "
     ]
    }
   ],
   "source": [
    "i = 1\n",
    "while i <= 10:\n",
    "    print(2*i,end=\" \")\n",
    "    i+=1"
   ]
  },
  {
   "cell_type": "markdown",
   "id": "2c6321a9",
   "metadata": {},
   "source": [
    "7. Write a python script to print first 10 even natural numbers in reverse order"
   ]
  },
  {
   "cell_type": "code",
   "execution_count": 12,
   "id": "5e65d156",
   "metadata": {},
   "outputs": [
    {
     "name": "stdout",
     "output_type": "stream",
     "text": [
      "20 18 16 14 12 10 8 6 4 2 "
     ]
    }
   ],
   "source": [
    "i = 10\n",
    "while i >= 1:\n",
    "    print(2*i,end=\" \")\n",
    "    i-=1"
   ]
  },
  {
   "cell_type": "markdown",
   "id": "759f9ded",
   "metadata": {},
   "source": [
    "8. Write a python script to print squares of first 10 natural numbers"
   ]
  },
  {
   "cell_type": "code",
   "execution_count": 13,
   "id": "64c5271e",
   "metadata": {},
   "outputs": [
    {
     "name": "stdout",
     "output_type": "stream",
     "text": [
      "1 4 9 16 25 36 49 64 81 100 "
     ]
    }
   ],
   "source": [
    "i = 1\n",
    "while i <= 10:\n",
    "    print(i*i,end=\" \")\n",
    "    i+=1"
   ]
  },
  {
   "cell_type": "markdown",
   "id": "69596c86",
   "metadata": {},
   "source": [
    "9. Write a python script to print cubes of first 10 natural numbers"
   ]
  },
  {
   "cell_type": "code",
   "execution_count": 14,
   "id": "cf0273ee",
   "metadata": {},
   "outputs": [
    {
     "name": "stdout",
     "output_type": "stream",
     "text": [
      "1 8 27 64 125 216 343 512 729 1000 "
     ]
    }
   ],
   "source": [
    "i = 1\n",
    "while i <= 10:\n",
    "    print(i**3,end=\" \")\n",
    "    i+=1"
   ]
  },
  {
   "cell_type": "markdown",
   "id": "73eee093",
   "metadata": {},
   "source": [
    "10. Write a python script to print first 10 multiples of 5"
   ]
  },
  {
   "cell_type": "code",
   "execution_count": 15,
   "id": "0f82a869",
   "metadata": {},
   "outputs": [
    {
     "name": "stdout",
     "output_type": "stream",
     "text": [
      "5 10 15 20 25 30 35 40 45 50 "
     ]
    }
   ],
   "source": [
    "i = 1\n",
    "while i <= 10:\n",
    "    print(5*i,end=\" \")\n",
    "    i+=1"
   ]
  }
 ],
 "metadata": {
  "kernelspec": {
   "display_name": "Python 3 (ipykernel)",
   "language": "python",
   "name": "python3"
  },
  "language_info": {
   "codemirror_mode": {
    "name": "ipython",
    "version": 3
   },
   "file_extension": ".py",
   "mimetype": "text/x-python",
   "name": "python",
   "nbconvert_exporter": "python",
   "pygments_lexer": "ipython3",
   "version": "3.10.6"
  }
 },
 "nbformat": 4,
 "nbformat_minor": 5
}
