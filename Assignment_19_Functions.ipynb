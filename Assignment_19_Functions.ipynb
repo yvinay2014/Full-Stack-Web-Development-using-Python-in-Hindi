{
 "cells": [
  {
   "cell_type": "markdown",
   "id": "85a1840f",
   "metadata": {},
   "source": [
    "1. Write a python program to create a simple function which prints “MySirG” ."
   ]
  },
  {
   "cell_type": "code",
   "execution_count": 1,
   "id": "886efa8f",
   "metadata": {},
   "outputs": [
    {
     "name": "stdout",
     "output_type": "stream",
     "text": [
      "MySirG\n"
     ]
    }
   ],
   "source": [
    "def func():\n",
    "    print(\"MySirG\")\n",
    "func()    "
   ]
  },
  {
   "cell_type": "markdown",
   "id": "9829be81",
   "metadata": {},
   "source": [
    "2. Write a python program to create a function which expects two arguments and print\n",
    "them in the function body."
   ]
  },
  {
   "cell_type": "code",
   "execution_count": 3,
   "id": "4174d168",
   "metadata": {},
   "outputs": [
    {
     "name": "stdout",
     "output_type": "stream",
     "text": [
      "value of first argv is:  15\n",
      "value of second argv is:  16\n"
     ]
    }
   ],
   "source": [
    "def func(a,b):\n",
    "    print(\"value of first argv is: \",a)\n",
    "    print(\"value of second argv is: \",b)\n",
    "func(15,16)    "
   ]
  },
  {
   "cell_type": "markdown",
   "id": "c659b536",
   "metadata": {},
   "source": [
    "3. Write a python program to create a function which expects an unknown number of\n",
    "arguments."
   ]
  },
  {
   "cell_type": "code",
   "execution_count": 6,
   "id": "c191d748",
   "metadata": {},
   "outputs": [
    {
     "name": "stdout",
     "output_type": "stream",
     "text": [
      "25.0\n"
     ]
    }
   ],
   "source": [
    "def function(*t):\n",
    "    Average = sum(t)/len(t)\n",
    "    return Average\n",
    "avg = function(10,20,30,40) \n",
    "print(avg)"
   ]
  },
  {
   "cell_type": "markdown",
   "id": "027772e3",
   "metadata": {},
   "source": [
    "4. Write a python program to create a function which expects kwargs arguments."
   ]
  },
  {
   "cell_type": "code",
   "execution_count": 9,
   "id": "b0e08332",
   "metadata": {},
   "outputs": [
    {
     "name": "stdout",
     "output_type": "stream",
     "text": [
      "sum is 95\n"
     ]
    }
   ],
   "source": [
    "def function1(a,b,c,d):\n",
    "    e = a+b+c+d\n",
    "    return e\n",
    "print(\"sum is\",(function1(b=2,a=5,c=85,d=3)))"
   ]
  },
  {
   "cell_type": "markdown",
   "id": "b9eb9717",
   "metadata": {},
   "source": [
    "5. Write a python program to create a function which expects a list as an argument."
   ]
  },
  {
   "cell_type": "code",
   "execution_count": 9,
   "id": "ed43012a",
   "metadata": {},
   "outputs": [
    {
     "name": "stdout",
     "output_type": "stream",
     "text": [
      "[15, 16, 75, 96]\n"
     ]
    }
   ],
   "source": [
    "def func(*t):\n",
    "    for k in t:\n",
    "        print(k)\n",
    "func([15,16,75,96])    "
   ]
  },
  {
   "cell_type": "markdown",
   "id": "80072b5e",
   "metadata": {},
   "source": [
    "6. Write a python program to create a function that finds a maximum of four numbers."
   ]
  },
  {
   "cell_type": "code",
   "execution_count": 8,
   "id": "e9f925cb",
   "metadata": {},
   "outputs": [
    {
     "name": "stdout",
     "output_type": "stream",
     "text": [
      "Enter commmas separted four value: 45,78,96,35\n",
      "96\n"
     ]
    }
   ],
   "source": [
    "def func(*t):\n",
    "    for k in t:\n",
    "        print(max(k))\n",
    "func(eval(input(\"Enter commmas separted four value: \"))) "
   ]
  },
  {
   "cell_type": "markdown",
   "id": "14a7ab2e",
   "metadata": {},
   "source": [
    "7. Write a python program to sum all the numbers in a list."
   ]
  },
  {
   "cell_type": "code",
   "execution_count": 10,
   "id": "e4381e16",
   "metadata": {},
   "outputs": [
    {
     "name": "stdout",
     "output_type": "stream",
     "text": [
      "202\n"
     ]
    }
   ],
   "source": [
    "def func(*t):\n",
    "    for k in t:\n",
    "        print(sum(k))\n",
    "func([15,16,75,96]) "
   ]
  },
  {
   "cell_type": "markdown",
   "id": "e1130ddf",
   "metadata": {},
   "source": [
    "8. Write a python program to multiply all the numbers in a list."
   ]
  },
  {
   "cell_type": "code",
   "execution_count": 17,
   "id": "8c012304",
   "metadata": {},
   "outputs": [
    {
     "name": "stdout",
     "output_type": "stream",
     "text": [
      "30\n"
     ]
    }
   ],
   "source": [
    "def func(*t):\n",
    "    result = 1\n",
    "    for k in t:\n",
    "        for j in k:\n",
    "            result*=j\n",
    "        return result\n",
    "k = func([1,1,5,6]) \n",
    "print(k)"
   ]
  },
  {
   "cell_type": "markdown",
   "id": "4dc977f9",
   "metadata": {},
   "source": [
    "9. Write a python program to create a function to check whether a number falls in a\n",
    "given range."
   ]
  },
  {
   "cell_type": "code",
   "execution_count": 22,
   "id": "17102d3b",
   "metadata": {},
   "outputs": [
    {
     "name": "stdout",
     "output_type": "stream",
     "text": [
      "Enter the number in between our range: 96\n",
      "Number 96 is in our range\n"
     ]
    }
   ],
   "source": [
    "def function2(a):\n",
    "    if a > 50 and a <= 100:\n",
    "        print(\"Number {} is in our range\".format(a))\n",
    "    else:\n",
    "        print(\"Number is out of range\")\n",
    "function2(int(input(\"Enter the number in between our range: \")))        "
   ]
  },
  {
   "cell_type": "markdown",
   "id": "e5db8471",
   "metadata": {},
   "source": [
    "10. Write a python program to create a function to check whether a given number is even\n",
    "or odd."
   ]
  },
  {
   "cell_type": "code",
   "execution_count": 26,
   "id": "ce07ec28",
   "metadata": {},
   "outputs": [
    {
     "name": "stdout",
     "output_type": "stream",
     "text": [
      "Enter a number: 55\n",
      "Number is odd \n"
     ]
    }
   ],
   "source": [
    "def even_odd(a):\n",
    "    if a % 2 == 0:\n",
    "        print(\"Number is even \")\n",
    "    else:\n",
    "        print(\"Number is odd \")\n",
    "even_odd(int(input(\"Enter a number: \")))        "
   ]
  }
 ],
 "metadata": {
  "kernelspec": {
   "display_name": "Python 3 (ipykernel)",
   "language": "python",
   "name": "python3"
  },
  "language_info": {
   "codemirror_mode": {
    "name": "ipython",
    "version": 3
   },
   "file_extension": ".py",
   "mimetype": "text/x-python",
   "name": "python",
   "nbconvert_exporter": "python",
   "pygments_lexer": "ipython3",
   "version": "3.10.6"
  }
 },
 "nbformat": 4,
 "nbformat_minor": 5
}
