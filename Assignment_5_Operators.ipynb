{
 "cells": [
  {
   "cell_type": "markdown",
   "id": "e08e0105",
   "metadata": {},
   "source": [
    "1. Write a python script to remove the last digit from a given number. (for example, if\n",
    "   user enters 2534 then your output should be 253)"
   ]
  },
  {
   "cell_type": "code",
   "execution_count": 2,
   "id": "2b21d36a",
   "metadata": {},
   "outputs": [
    {
     "name": "stdout",
     "output_type": "stream",
     "text": [
      "Enter the number: 2534\n",
      "253\n"
     ]
    }
   ],
   "source": [
    "num = int(input(\"Enter the number: \"))\n",
    "print(num//10)"
   ]
  },
  {
   "cell_type": "markdown",
   "id": "7d3708b4",
   "metadata": {},
   "source": [
    "2. Write a python script to get the last digit from a given number. (for example, if user\n",
    "   enters 2089 then your output should be 9)"
   ]
  },
  {
   "cell_type": "code",
   "execution_count": 3,
   "id": "45d72c50",
   "metadata": {},
   "outputs": [
    {
     "name": "stdout",
     "output_type": "stream",
     "text": [
      "Enter the number: 2089\n",
      "9\n"
     ]
    }
   ],
   "source": [
    "num = int(input(\"Enter the number: \"))\n",
    "print(num%10)"
   ]
  },
  {
   "cell_type": "markdown",
   "id": "64274224",
   "metadata": {},
   "source": [
    "3. Write a python script to swap data of two variables"
   ]
  },
  {
   "cell_type": "code",
   "execution_count": 7,
   "id": "e51c9a5f",
   "metadata": {},
   "outputs": [
    {
     "name": "stdout",
     "output_type": "stream",
     "text": [
      "value is in x before swapping: 5\n",
      "value is in y before swapping: 10\n",
      "value is in x after swapping is 10\n",
      "value is in y after swapping is 5\n"
     ]
    }
   ],
   "source": [
    "x = int(input(\"value is in x before swapping: \"))\n",
    "y = int(input(\"value is in y before swapping: \"))\n",
    "temp = x\n",
    "x = y\n",
    "y = temp\n",
    "print(\"value is in x after swapping is %d\"%x)\n",
    "print(\"value is in y after swapping is %d\"%y)\n"
   ]
  },
  {
   "cell_type": "markdown",
   "id": "a5dc19ad",
   "metadata": {},
   "source": [
    "4. Write a python script to find x power y, where values of x and y are given by user"
   ]
  },
  {
   "cell_type": "code",
   "execution_count": 9,
   "id": "419c4803",
   "metadata": {},
   "outputs": [
    {
     "name": "stdout",
     "output_type": "stream",
     "text": [
      "Enter the value of x: 2\n",
      "Enter the value of y: 4\n",
      "16\n"
     ]
    }
   ],
   "source": [
    "x = int(input(\"Enter the value of x: \"))\n",
    "y = int(input(\"Enter the value of y: \"))\n",
    "print(x**y)       "
   ]
  },
  {
   "cell_type": "markdown",
   "id": "43a6889d",
   "metadata": {},
   "source": [
    "5. Write a python script which takes a three digit number from the user and displays\n",
    "only its first digit."
   ]
  },
  {
   "cell_type": "code",
   "execution_count": 10,
   "id": "f4fc9289",
   "metadata": {},
   "outputs": [
    {
     "name": "stdout",
     "output_type": "stream",
     "text": [
      "Enter the value of three digit number: 234\n",
      "2\n"
     ]
    }
   ],
   "source": [
    "num = int(input(\"Enter the value of three digit number: \"))\n",
    "print(num//100)"
   ]
  },
  {
   "cell_type": "markdown",
   "id": "2778ff3f",
   "metadata": {},
   "source": [
    "6. Write a python script which takes a three digit number from the user and displays\n",
    "only its middle digit."
   ]
  },
  {
   "cell_type": "code",
   "execution_count": 12,
   "id": "178e17f1",
   "metadata": {},
   "outputs": [
    {
     "name": "stdout",
     "output_type": "stream",
     "text": [
      "Enter the value of three digit number: 234\n",
      "3\n"
     ]
    }
   ],
   "source": [
    "num = int(input(\"Enter the value of three digit number: \"))\n",
    "d = num%100\n",
    "print(d//10)"
   ]
  },
  {
   "cell_type": "markdown",
   "id": "a71f96c2",
   "metadata": {},
   "source": [
    "7. Write a python script which takes a three digit number from the user and displays\n",
    "only its last digit."
   ]
  },
  {
   "cell_type": "code",
   "execution_count": 13,
   "id": "c397e727",
   "metadata": {},
   "outputs": [
    {
     "name": "stdout",
     "output_type": "stream",
     "text": [
      "Enter the value of three digit number: 234\n",
      "4\n"
     ]
    }
   ],
   "source": [
    "num = int(input(\"Enter the value of three digit number: \"))\n",
    "print(num%10)"
   ]
  },
  {
   "cell_type": "markdown",
   "id": "99fd4a34",
   "metadata": {},
   "source": [
    "8. Write a python script to use IN operator to display the data present in the list."
   ]
  },
  {
   "cell_type": "code",
   "execution_count": 16,
   "id": "c4ca697f",
   "metadata": {},
   "outputs": [
    {
     "name": "stdout",
     "output_type": "stream",
     "text": [
      "True\n"
     ]
    }
   ],
   "source": [
    "list = [4,5,6,7,8,9,15,25,26]\n",
    "print(26 in list)"
   ]
  },
  {
   "cell_type": "markdown",
   "id": "678db58d",
   "metadata": {},
   "source": [
    "9. Write a python script to use NOT IN operator to display the data not present in list."
   ]
  },
  {
   "cell_type": "code",
   "execution_count": 17,
   "id": "090e2139",
   "metadata": {},
   "outputs": [
    {
     "name": "stdout",
     "output_type": "stream",
     "text": [
      "False\n"
     ]
    }
   ],
   "source": [
    "list = [4,5,6,7,8,9,15,25,26]\n",
    "print(26 not in list)"
   ]
  },
  {
   "cell_type": "markdown",
   "id": "260f7a04",
   "metadata": {},
   "source": [
    "10. Write a python script to use IS operator to display if both variables are the same\n",
    "object or not?"
   ]
  },
  {
   "cell_type": "code",
   "execution_count": 18,
   "id": "223202b1",
   "metadata": {},
   "outputs": [
    {
     "data": {
      "text/plain": [
       "True"
      ]
     },
     "execution_count": 18,
     "metadata": {},
     "output_type": "execute_result"
    }
   ],
   "source": [
    "a = 5\n",
    "b = 5\n",
    "a is b"
   ]
  }
 ],
 "metadata": {
  "kernelspec": {
   "display_name": "Python 3 (ipykernel)",
   "language": "python",
   "name": "python3"
  },
  "language_info": {
   "codemirror_mode": {
    "name": "ipython",
    "version": 3
   },
   "file_extension": ".py",
   "mimetype": "text/x-python",
   "name": "python",
   "nbconvert_exporter": "python",
   "pygments_lexer": "ipython3",
   "version": "3.9.12"
  }
 },
 "nbformat": 4,
 "nbformat_minor": 5
}
