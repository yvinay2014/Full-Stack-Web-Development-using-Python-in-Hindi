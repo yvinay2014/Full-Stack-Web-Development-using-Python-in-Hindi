{
 "cells": [
  {
   "cell_type": "markdown",
   "id": "e660735b",
   "metadata": {},
   "source": [
    "### Assignment-2: Python Basics"
   ]
  },
  {
   "cell_type": "markdown",
   "id": "29223ec6",
   "metadata": {},
   "source": [
    "1. Write a python script to add comments and print (“Learning Python”) on screen."
   ]
  },
  {
   "cell_type": "code",
   "execution_count": 1,
   "id": "12bf7a6c",
   "metadata": {},
   "outputs": [
    {
     "name": "stdout",
     "output_type": "stream",
     "text": [
      "\"Learning Python\"\n"
     ]
    }
   ],
   "source": [
    "\"\"\" I am commenting to understand my code easier\n",
    "this is multi-line commment section\n",
    "\"\"\"\n",
    "#let's comment in single line and start our programming \n",
    "print('\"Learning Python\"')"
   ]
  },
  {
   "cell_type": "markdown",
   "id": "d61873dc",
   "metadata": {},
   "source": [
    "2. Write a python script to add multi line comments and print values of four variables,\n",
    "each in a new line. Variable contains any values."
   ]
  },
  {
   "cell_type": "code",
   "execution_count": 4,
   "id": "cbd0ccfd",
   "metadata": {
    "scrolled": true
   },
   "outputs": [
    {
     "name": "stdout",
     "output_type": "stream",
     "text": [
      "25\n",
      "ram\n",
      "10.5\n",
      "(3+10j)\n"
     ]
    }
   ],
   "source": [
    "\"\"\" I am commenting to understand my code easier\n",
    "this is multi-line commment section\n",
    "i m going to take four varibles names a,b,c,d and some value and excute program in new line\n",
    "\"\"\"\n",
    "a = 25\n",
    "b = \"ram\"\n",
    "c = 10.5\n",
    "d = 3+10j\n",
    "print(a,b,c,d,sep = \"\\n\")"
   ]
  },
  {
   "cell_type": "markdown",
   "id": "aac35c49",
   "metadata": {},
   "source": [
    "3. Write a python script to print types of variables. Create 5 variables each of them\n",
    "   containing different types of data. (like 35, True, “MySirG”,5.46, 3+4j, etc)"
   ]
  },
  {
   "cell_type": "code",
   "execution_count": 6,
   "id": "4483d85e",
   "metadata": {},
   "outputs": [
    {
     "name": "stdout",
     "output_type": "stream",
     "text": [
      "<class 'int'>\n",
      "<class 'bool'>\n",
      "<class 'str'>\n",
      "<class 'float'>\n",
      "<class 'complex'>\n"
     ]
    },
    {
     "data": {
      "text/plain": [
       "(None, None, None, None, None)"
      ]
     },
     "execution_count": 6,
     "metadata": {},
     "output_type": "execute_result"
    }
   ],
   "source": [
    "a = 35\n",
    "b = True\n",
    "c = \"MySirG\"\n",
    "d = 5.46\n",
    "e = 3+4j\n",
    "print(type(a)),print(type(b)),print(type(c)),print(type(d)),print(type(e))"
   ]
  },
  {
   "cell_type": "markdown",
   "id": "3566a2dc",
   "metadata": {},
   "source": [
    "4. Write a python script to print the id of two variables containing the same integer\n",
    "   values."
   ]
  },
  {
   "cell_type": "code",
   "execution_count": 7,
   "id": "7df4a655",
   "metadata": {},
   "outputs": [
    {
     "name": "stdout",
     "output_type": "stream",
     "text": [
      "1619023522864\n",
      "1619023522864\n"
     ]
    },
    {
     "data": {
      "text/plain": [
       "(None, None)"
      ]
     },
     "execution_count": 7,
     "metadata": {},
     "output_type": "execute_result"
    }
   ],
   "source": [
    "x = 25\n",
    "y = 25\n",
    "print(id(x)),print(id(y))"
   ]
  },
  {
   "cell_type": "markdown",
   "id": "0d582d30",
   "metadata": {},
   "source": [
    "5. Create four variables in a Python script and assign values of different data types to\n",
    "them. Write a Python script to print value, its type and id of each variable"
   ]
  },
  {
   "cell_type": "code",
   "execution_count": 11,
   "id": "865e0611",
   "metadata": {
    "scrolled": true
   },
   "outputs": [
    {
     "name": "stdout",
     "output_type": "stream",
     "text": [
      "25 ram 10.5 (3+10j)\n",
      "<class 'int'>\n",
      "<class 'str'>\n",
      "<class 'float'>\n",
      "<class 'complex'>\n",
      "id of a is : 1619023522864\n",
      "id of b is : 1619110234992\n",
      "id of c is : 1619109976752\n",
      "id of d is : 1619109977552\n"
     ]
    },
    {
     "data": {
      "text/plain": [
       "(None, None)"
      ]
     },
     "execution_count": 11,
     "metadata": {},
     "output_type": "execute_result"
    }
   ],
   "source": [
    "a = 25\n",
    "b = \"ram\"\n",
    "c = 10.5\n",
    "d = 3+10j\n",
    "print(a,b,c,d,sep = \" \") # values\n",
    "\n",
    "print(type(a)),print(type(b)),print(type(c)),print(type(d)) #types of different values\n",
    " \n",
    "    #id of each variables\n",
    "print(\"id of a is :\",id(a)),print(\"id of b is :\",id(b)),\n",
    "print(\"id of c is :\",id(c)),print(\"id of d is :\",id(d))"
   ]
  },
  {
   "cell_type": "markdown",
   "id": "5c53c160",
   "metadata": {},
   "source": [
    "6. Write a python script to print all the keywords"
   ]
  },
  {
   "cell_type": "code",
   "execution_count": 21,
   "id": "794a7d4d",
   "metadata": {},
   "outputs": [
    {
     "name": "stdout",
     "output_type": "stream",
     "text": [
      "['False', 'None', 'True', '__peg_parser__', 'and', 'as', 'assert', 'async', 'await', 'break', 'class', 'continue', 'def', 'del', 'elif', 'else', 'except', 'finally', 'for', 'from', 'global', 'if', 'import', 'in', 'is', 'lambda', 'nonlocal', 'not', 'or', 'pass', 'raise', 'return', 'try', 'while', 'with', 'yield']\n"
     ]
    }
   ],
   "source": [
    "import keyword as kw\n",
    "print(kw.kwlist)"
   ]
  },
  {
   "cell_type": "markdown",
   "id": "5f878251",
   "metadata": {},
   "source": [
    "7. On Python shell use help() function and display the list of keywords"
   ]
  },
  {
   "cell_type": "code",
   "execution_count": 24,
   "id": "8c2424c5",
   "metadata": {
    "scrolled": true
   },
   "outputs": [
    {
     "name": "stdout",
     "output_type": "stream",
     "text": [
      "\n",
      "Here is a list of the Python keywords.  Enter any keyword to get more help.\n",
      "\n",
      "False               break               for                 not\n",
      "None                class               from                or\n",
      "True                continue            global              pass\n",
      "__peg_parser__      def                 if                  raise\n",
      "and                 del                 import              return\n",
      "as                  elif                in                  try\n",
      "assert              else                is                  while\n",
      "async               except              lambda              with\n",
      "await               finally             nonlocal            yield\n",
      "\n"
     ]
    }
   ],
   "source": [
    "help(\"keywords\")"
   ]
  },
  {
   "cell_type": "markdown",
   "id": "e12d8c3f",
   "metadata": {},
   "source": [
    "8. Create two Python files A0.py and A1.py. Create a variable in A1.py and assign some\n",
    "   value to it. Write a python script to import A1 module in A0 and print value of the\n",
    "   variable created in A0.py"
   ]
  },
  {
   "cell_type": "code",
   "execution_count": 17,
   "id": "779fa79a",
   "metadata": {},
   "outputs": [
    {
     "name": "stdout",
     "output_type": "stream",
     "text": [
      "Hello World\n"
     ]
    }
   ],
   "source": [
    "import A1\n",
    "print(A1.x)"
   ]
  },
  {
   "cell_type": "markdown",
   "id": "90998129",
   "metadata": {},
   "source": [
    "9. Name the keywords, used as data in the Python script."
   ]
  },
  {
   "cell_type": "code",
   "execution_count": 18,
   "id": "11b67d6e",
   "metadata": {},
   "outputs": [],
   "source": [
    "True\n",
    "False\n",
    "None"
   ]
  },
  {
   "cell_type": "markdown",
   "id": "fcb0c617",
   "metadata": {},
   "source": [
    "10. Write a python script to display the current date and time. First create variables to\n",
    "    store date and time, then display date and time in proper format (like: 13-8-2022 and\n",
    "    9:00 PM)"
   ]
  },
  {
   "cell_type": "code",
   "execution_count": 41,
   "id": "4232851f",
   "metadata": {},
   "outputs": [
    {
     "name": "stdout",
     "output_type": "stream",
     "text": [
      "08-09-2022 07:55 AM\n"
     ]
    }
   ],
   "source": [
    "from datetime import datetime\n",
    "y = datetime.now()\n",
    "d1 = y.strftime(\"%d-%m-%Y %H:%M %p\")\n",
    "print(d1)"
   ]
  }
 ],
 "metadata": {
  "kernelspec": {
   "display_name": "Python 3 (ipykernel)",
   "language": "python",
   "name": "python3"
  },
  "language_info": {
   "codemirror_mode": {
    "name": "ipython",
    "version": 3
   },
   "file_extension": ".py",
   "mimetype": "text/x-python",
   "name": "python",
   "nbconvert_exporter": "python",
   "pygments_lexer": "ipython3",
   "version": "3.9.12"
  }
 },
 "nbformat": 4,
 "nbformat_minor": 5
}
