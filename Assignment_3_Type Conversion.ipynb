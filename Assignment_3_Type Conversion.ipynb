{
 "cells": [
  {
   "cell_type": "markdown",
   "id": "ef5a1d2e",
   "metadata": {},
   "source": [
    "### Assignment-3: Type Conversion"
   ]
  },
  {
   "cell_type": "markdown",
   "id": "cd62a1a6",
   "metadata": {},
   "source": [
    "1. Write a python script to convert a number into str type."
   ]
  },
  {
   "cell_type": "code",
   "execution_count": 2,
   "id": "e8fa9b89",
   "metadata": {},
   "outputs": [
    {
     "name": "stdout",
     "output_type": "stream",
     "text": [
      "56\n",
      "<class 'str'>\n"
     ]
    }
   ],
   "source": [
    "a = 56\n",
    "b = str(a)\n",
    "print(b)\n",
    "print(type(b))"
   ]
  },
  {
   "cell_type": "markdown",
   "id": "a8a5ee06",
   "metadata": {},
   "source": [
    "2. Write a python script to print Unicode of the character ‘m’"
   ]
  },
  {
   "cell_type": "code",
   "execution_count": 7,
   "id": "386063cb",
   "metadata": {},
   "outputs": [
    {
     "data": {
      "text/plain": [
       "109"
      ]
     },
     "execution_count": 7,
     "metadata": {},
     "output_type": "execute_result"
    }
   ],
   "source": [
    "y = \"m\"\n",
    "ord(y)"
   ]
  },
  {
   "cell_type": "markdown",
   "id": "ddd8995b",
   "metadata": {},
   "source": [
    "3. Write a python script to print character representation of a given unicode 100."
   ]
  },
  {
   "cell_type": "code",
   "execution_count": 9,
   "id": "90c79f11",
   "metadata": {},
   "outputs": [
    {
     "data": {
      "text/plain": [
       "'d'"
      ]
     },
     "execution_count": 9,
     "metadata": {},
     "output_type": "execute_result"
    }
   ],
   "source": [
    "z = 100\n",
    "chr(z)"
   ]
  },
  {
   "cell_type": "markdown",
   "id": "3694c6dc",
   "metadata": {},
   "source": [
    "4. Write a python script to print any number and its binary equivalent"
   ]
  },
  {
   "cell_type": "code",
   "execution_count": 14,
   "id": "9139d13c",
   "metadata": {},
   "outputs": [
    {
     "name": "stdout",
     "output_type": "stream",
     "text": [
      "enter any number: 3\n",
      "0b11\n"
     ]
    }
   ],
   "source": [
    "a = int(input(\"enter any number: \"))\n",
    "print(bin(a))"
   ]
  },
  {
   "cell_type": "markdown",
   "id": "fa5a08e1",
   "metadata": {},
   "source": [
    "5. Write a python script to print any number and its octal equivalent."
   ]
  },
  {
   "cell_type": "code",
   "execution_count": 15,
   "id": "6bc21e40",
   "metadata": {},
   "outputs": [
    {
     "name": "stdout",
     "output_type": "stream",
     "text": [
      "enter any number: 14\n",
      "0o16\n"
     ]
    }
   ],
   "source": [
    "e = int(input(\"enter any number: \"))\n",
    "print(oct(e))"
   ]
  },
  {
   "cell_type": "markdown",
   "id": "90b643f0",
   "metadata": {},
   "source": [
    "6. Write a python script to print any number and its hexadecimal equivalent."
   ]
  },
  {
   "cell_type": "code",
   "execution_count": 17,
   "id": "6b6969cd",
   "metadata": {},
   "outputs": [
    {
     "name": "stdout",
     "output_type": "stream",
     "text": [
      "Enter the value of any number : 3\n",
      "0x3\n"
     ]
    }
   ],
   "source": [
    "t = int(input(\"Enter the value of any number : \"))\n",
    "print(hex(t))"
   ]
  },
  {
   "cell_type": "markdown",
   "id": "9faaf3dc",
   "metadata": {},
   "source": [
    "7. Write a python script to store binary number 1100101 in a variable and print it in\n",
    "   decimal format."
   ]
  },
  {
   "cell_type": "code",
   "execution_count": 18,
   "id": "567c3a4c",
   "metadata": {},
   "outputs": [
    {
     "name": "stdout",
     "output_type": "stream",
     "text": [
      "101\n"
     ]
    }
   ],
   "source": [
    "b = 0b1100101\n",
    "print(b)"
   ]
  },
  {
   "cell_type": "markdown",
   "id": "13276a84",
   "metadata": {},
   "source": [
    "8. Write a python script to store a hexadecimal number 2F in a variable and print it in\n",
    "   octal format."
   ]
  },
  {
   "cell_type": "code",
   "execution_count": 20,
   "id": "cf8b0daf",
   "metadata": {},
   "outputs": [
    {
     "name": "stdout",
     "output_type": "stream",
     "text": [
      "0o57\n"
     ]
    }
   ],
   "source": [
    "g = 0x2F\n",
    "print(oct(g))"
   ]
  },
  {
   "cell_type": "markdown",
   "id": "b75abc05",
   "metadata": {},
   "source": [
    "9. Write a python script to store an octal number 125 in a variable and print it in binary\n",
    "format."
   ]
  },
  {
   "cell_type": "code",
   "execution_count": 21,
   "id": "954735be",
   "metadata": {},
   "outputs": [
    {
     "name": "stdout",
     "output_type": "stream",
     "text": [
      "0b1010101\n"
     ]
    }
   ],
   "source": [
    "h = 0o125\n",
    "print(bin(h))"
   ]
  },
  {
   "cell_type": "markdown",
   "id": "7da491bd",
   "metadata": {},
   "source": [
    "10. Write a python script to add two numbers 25 (in octal) and 39 (in hexadecimal) and\n",
    "    display the result in binary format."
   ]
  },
  {
   "cell_type": "code",
   "execution_count": 22,
   "id": "dab84df9",
   "metadata": {},
   "outputs": [
    {
     "name": "stdout",
     "output_type": "stream",
     "text": [
      "0b1001110\n"
     ]
    }
   ],
   "source": [
    "octal = 0o25\n",
    "hexadeci = 0x39\n",
    "print(bin(octal+hexadeci))"
   ]
  }
 ],
 "metadata": {
  "kernelspec": {
   "display_name": "Python 3 (ipykernel)",
   "language": "python",
   "name": "python3"
  },
  "language_info": {
   "codemirror_mode": {
    "name": "ipython",
    "version": 3
   },
   "file_extension": ".py",
   "mimetype": "text/x-python",
   "name": "python",
   "nbconvert_exporter": "python",
   "pygments_lexer": "ipython3",
   "version": "3.9.12"
  }
 },
 "nbformat": 4,
 "nbformat_minor": 5
}
