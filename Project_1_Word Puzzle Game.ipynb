{
 "cells": [
  {
   "cell_type": "raw",
   "id": "6911f624",
   "metadata": {},
   "source": [
    "Problem Statement: You have to write a Word Puzzle Game in which the user has to form\n",
    "the correct word out of a given set of characters. In the game the user has to solve this\n",
    "puzzle for 5 words, one at a time. Problem words are stored in a list and appear to the user\n",
    "in random sequence. Give the user score +1 for each correct answer and give -1 for each\n",
    "wrong answer. At last print the final score. You can store any number of words in the list, but\n",
    "in each round of the game only 5 words are shown to the user.\n",
    "\n",
    "Sample output of the game:\n",
    "\n",
    "Arrange the letters to form a valid word:\n",
    "RAEHTF\n",
    "Father\n",
    "Correct\n",
    "\n",
    "Arrange the letters to form a valid word:\n",
    "KABRE\n",
    "Barke\n",
    "Wrong\n",
    "\n",
    "Arrange the letters to form a valid word:\n",
    "CYROTNU\n",
    "Cry\n",
    "Wrong\n",
    "\n",
    "Arrange the letters to form a valid word:\n",
    "RENEG\n",
    "green\n",
    "Correct\n",
    "\n",
    "Arrange the letters to form a valid word:\n",
    "OAERELANP\n",
    "aeroplane\n",
    "Correct\n",
    "\n",
    "Net Score is 1"
   ]
  },
  {
   "cell_type": "code",
   "execution_count": 154,
   "id": "dd889c0a",
   "metadata": {},
   "outputs": [
    {
     "name": "stdout",
     "output_type": "stream",
     "text": [
      "Hello,Welcome To Word Puzzle Game\n",
      "Arrange the letters to form a valid word: RENEG\n",
      "green\n",
      "Arrange the letters to form a valid word: OAERELANP\n",
      "aeroplane\n",
      "Arrange the letters to form a valid word: RAEHTF\n",
      "father\n",
      "Arrange the letters to form a valid word: KABRE\n",
      "brake\n",
      "Arrange the letters to form a valid word: CYROTNU\n",
      "country\n",
      "Your Net Score is 5\n"
     ]
    }
   ],
   "source": [
    "import random\n",
    "print(\"Hello,Welcome To Word Puzzle Game\")\n",
    "word_list = [\"RAEHTF\",\"KABRE\",\"CYROTNU\",\"RENEG\",\"OAERELANP\"]\n",
    "correct_list = [\"father\",\"green\",\"aeroplane\",\"brake\",\"country\"]\n",
    "random.shuffle(word_list)\n",
    "mylist = []\n",
    "for element in word_list:\n",
    "    mylist.append(element)\n",
    "\n",
    "score = 0\n",
    "i =0\n",
    "while i<5:\n",
    "    print(\"Arrange the letters to form a valid word:\",mylist[i])\n",
    "    ans = input()\n",
    "    if ans in correct_list:\n",
    "        score +=1\n",
    "    else:\n",
    "        score-=1\n",
    "        \n",
    "    i+=1    \n",
    "print(\"Your Net Score is\",score)   "
   ]
  }
 ],
 "metadata": {
  "kernelspec": {
   "display_name": "Python 3 (ipykernel)",
   "language": "python",
   "name": "python3"
  },
  "language_info": {
   "codemirror_mode": {
    "name": "ipython",
    "version": 3
   },
   "file_extension": ".py",
   "mimetype": "text/x-python",
   "name": "python",
   "nbconvert_exporter": "python",
   "pygments_lexer": "ipython3",
   "version": "3.10.6"
  }
 },
 "nbformat": 4,
 "nbformat_minor": 5
}
