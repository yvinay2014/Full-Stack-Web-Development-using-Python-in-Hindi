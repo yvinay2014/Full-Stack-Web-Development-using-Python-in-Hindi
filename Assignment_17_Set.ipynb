{
 "cells": [
  {
   "cell_type": "markdown",
   "id": "0052f2e5",
   "metadata": {},
   "source": [
    "1. Write a python program to store all the programming languages known to you using\n",
    "Set."
   ]
  },
  {
   "cell_type": "code",
   "execution_count": 1,
   "id": "5099aca5",
   "metadata": {},
   "outputs": [],
   "source": [
    "set = {\"Python\", \"Django\", \"JavaScript\", \"SQL\",\"Java\",\"SQL\",\"C\", \"Cpp\"}"
   ]
  },
  {
   "cell_type": "markdown",
   "id": "1a81aa7c",
   "metadata": {},
   "source": [
    "2. Write a python program to store your own information {name, age, gender, so on..}"
   ]
  },
  {
   "cell_type": "code",
   "execution_count": 2,
   "id": "2dee62b0",
   "metadata": {},
   "outputs": [],
   "source": [
    "set1 = {\"Vinay\",21,\"Male\",\"B-Tech\"}"
   ]
  },
  {
   "cell_type": "markdown",
   "id": "374f5a2a",
   "metadata": {},
   "source": [
    "3. Write a python script to get the data type of a Set."
   ]
  },
  {
   "cell_type": "code",
   "execution_count": 3,
   "id": "d59b57c7",
   "metadata": {},
   "outputs": [
    {
     "name": "stdout",
     "output_type": "stream",
     "text": [
      "<class 'set'>\n"
     ]
    }
   ],
   "source": [
    "print(type(set1))"
   ]
  },
  {
   "cell_type": "markdown",
   "id": "3a8d5145",
   "metadata": {},
   "source": [
    "4. Write a Python script to find if “Python” is present in the set thisset = {\"Java\",\n",
    "\"Python\", \"Django\"}"
   ]
  },
  {
   "cell_type": "code",
   "execution_count": 4,
   "id": "96952680",
   "metadata": {},
   "outputs": [
    {
     "name": "stdout",
     "output_type": "stream",
     "text": [
      "Python element found\n"
     ]
    }
   ],
   "source": [
    "thisset = {\"Java\", \"Python\", \"Django\"}\n",
    "for x in thisset:\n",
    "    if x == \"Python\":\n",
    "        print(\"Python element found\")\n",
    "        break    \n",
    "else:\n",
    "    print(\"Not found\")"
   ]
  },
  {
   "cell_type": "markdown",
   "id": "56c94332",
   "metadata": {},
   "source": [
    "5. Write a python program to add items from another set to the current set. \n",
    "thisset = {\"Java\", \"Python\", \"SQL\"}\n",
    "secondset= {\"C\", \"Cpp\", \"NoSQL\"}"
   ]
  },
  {
   "cell_type": "code",
   "execution_count": 7,
   "id": "bfb508cf",
   "metadata": {},
   "outputs": [
    {
     "name": "stdout",
     "output_type": "stream",
     "text": [
      "{'Python', 'Cpp', 'SQL', 'C', 'NoSQL', 'Java'}\n"
     ]
    }
   ],
   "source": [
    "thisset = {\"Java\", \"Python\", \"SQL\"}\n",
    "secondset= {\"C\", \"Cpp\", \"NoSQL\"}\n",
    "thisset = thisset.union(secondset)\n",
    "print(thisset)"
   ]
  },
  {
   "cell_type": "markdown",
   "id": "4eb860c6",
   "metadata": {},
   "source": [
    "6. Write a python program to add elements of list to a set\n",
    "thisset = {\"Python\", \"Django\", \"JavaScript\"}\n",
    "mylist = [\"Java\", \"C\"]"
   ]
  },
  {
   "cell_type": "code",
   "execution_count": 16,
   "id": "55d442e6",
   "metadata": {},
   "outputs": [
    {
     "name": "stdout",
     "output_type": "stream",
     "text": [
      "{'Python', 'Django', 'C', 'Java', 'JavaScript'}\n"
     ]
    }
   ],
   "source": [
    "thisset = {\"Python\", \"Django\", \"JavaScript\"}\n",
    "mylist = [\"Java\", \"C\"]\n",
    "mylist2 = {x for x in mylist}\n",
    "thisset = thisset.union(mylist2)\n",
    "print(thisset)"
   ]
  },
  {
   "cell_type": "markdown",
   "id": "ae6fb1b6",
   "metadata": {},
   "source": [
    "7. Write a python program to remove last item of the given set\n",
    "thisset = {\"Python\", \"Django\", \"JavaScript\", “SQL”}"
   ]
  },
  {
   "cell_type": "code",
   "execution_count": 19,
   "id": "71ce906f",
   "metadata": {},
   "outputs": [
    {
     "name": "stdout",
     "output_type": "stream",
     "text": [
      "{'Python', 'Django', 'JavaScript'}\n"
     ]
    }
   ],
   "source": [
    "thisset = {\"Python\", \"Django\", \"JavaScript\", \"SQL\"}\n",
    "thisset.discard(\"SQL\")\n",
    "print(thisset)"
   ]
  },
  {
   "cell_type": "markdown",
   "id": "a74a22cc",
   "metadata": {},
   "source": [
    "8. Write a python program to delete the set completely."
   ]
  },
  {
   "cell_type": "code",
   "execution_count": 21,
   "id": "67c83d6b",
   "metadata": {},
   "outputs": [
    {
     "name": "stdout",
     "output_type": "stream",
     "text": [
      "set()\n"
     ]
    }
   ],
   "source": [
    "thisset = {\"Python\", \"Django\", \"JavaScript\", \"SQL\"}\n",
    "thisset.clear()\n",
    "print(thisset)"
   ]
  },
  {
   "cell_type": "markdown",
   "id": "eeda7913",
   "metadata": {},
   "source": [
    "9. Write a python program to loop through the set and print values\n",
    "thisset = {\"Python\", \"Django\", \"JavaScript\", “SQL”}"
   ]
  },
  {
   "cell_type": "code",
   "execution_count": 22,
   "id": "bce364d2",
   "metadata": {
    "scrolled": true
   },
   "outputs": [
    {
     "name": "stdout",
     "output_type": "stream",
     "text": [
      "SQL\n",
      "Python\n",
      "Django\n",
      "JavaScript\n"
     ]
    }
   ],
   "source": [
    "thisset = {\"Python\", \"Django\", \"JavaScript\", \"SQL\"}\n",
    "for element in thisset:\n",
    "    print(element)"
   ]
  },
  {
   "cell_type": "markdown",
   "id": "20d92a77",
   "metadata": {},
   "source": [
    "10. Write a python program to find the maximum and minimum value in a set."
   ]
  },
  {
   "cell_type": "code",
   "execution_count": 23,
   "id": "422aa708",
   "metadata": {},
   "outputs": [
    {
     "name": "stdout",
     "output_type": "stream",
     "text": [
      "10\n",
      "70\n"
     ]
    }
   ],
   "source": [
    "thisset = {10,20,30,40,50,60,70}\n",
    "print(min(thisset))\n",
    "print(max(thisset))"
   ]
  }
 ],
 "metadata": {
  "kernelspec": {
   "display_name": "Python 3 (ipykernel)",
   "language": "python",
   "name": "python3"
  },
  "language_info": {
   "codemirror_mode": {
    "name": "ipython",
    "version": 3
   },
   "file_extension": ".py",
   "mimetype": "text/x-python",
   "name": "python",
   "nbconvert_exporter": "python",
   "pygments_lexer": "ipython3",
   "version": "3.10.6"
  }
 },
 "nbformat": 4,
 "nbformat_minor": 5
}
