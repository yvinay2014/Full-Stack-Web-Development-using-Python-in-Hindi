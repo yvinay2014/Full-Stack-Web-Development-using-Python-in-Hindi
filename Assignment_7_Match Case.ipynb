{
 "cells": [
  {
   "cell_type": "markdown",
   "id": "0f616b85",
   "metadata": {},
   "source": [
    "1. Write a python script to display the number of days in a given month number."
   ]
  },
  {
   "cell_type": "code",
   "execution_count": 3,
   "id": "39ce35bc",
   "metadata": {},
   "outputs": [
    {
     "name": "stdout",
     "output_type": "stream",
     "text": [
      "Enter the month number to display number of days: 2\n",
      "28/29 days\n"
     ]
    }
   ],
   "source": [
    "month = int(input(\"Enter the month number to display number of days: \"))\n",
    "match month:\n",
    "    case month if month in (1,3,5,7,8,10,12):\n",
    "        print(\"31 days\")\n",
    "    case month if month in (4,6,9,11):\n",
    "        print(\"30 days\")\n",
    "    case month if month == 2:\n",
    "        print(\"28/29 days\")\n",
    "    case _:\n",
    "        print(\"Please enter a correct number\")"
   ]
  },
  {
   "cell_type": "markdown",
   "id": "82e51034",
   "metadata": {},
   "source": [
    "2. Write a menu driven program to perform following operations - Addition, Subtraction,\n",
    "Multiplication, Division"
   ]
  },
  {
   "cell_type": "code",
   "execution_count": 7,
   "id": "54e1e83a",
   "metadata": {},
   "outputs": [
    {
     "name": "stdout",
     "output_type": "stream",
     "text": [
      "1.Addition\n",
      "2.Substraction\n",
      "3.Multiplication\n",
      "4.Division\n",
      "Select any one Operation from above menu: 3\n",
      "Enter first number: 5\n",
      "Enter second number: 6\n",
      "Multiplication is:  30\n"
     ]
    }
   ],
   "source": [
    "print(\"1.Addition\")\n",
    "print(\"2.Substraction\")\n",
    "print(\"3.Multiplication\")\n",
    "print(\"4.Division\")\n",
    "x = int(input(\"Select any one Operation from above menu: \"))\n",
    "match x:\n",
    "    case 1:\n",
    "        a,b = int(input(\"Enter first number: \")),int(input(\"Enter second number: \"))\n",
    "        print(\"Addition is: \",a+b)\n",
    "    case 2:\n",
    "        a,b = int(input(\"Enter first number: \")),int(input(\"Enter second number: \"))\n",
    "        print(\"Substraction is: \",a-b)\n",
    "    case 3:\n",
    "        a,b = int(input(\"Enter first number: \")),int(input(\"Enter second number: \"))\n",
    "        print(\"Multiplication is: \",a*b)\n",
    "    case 4:\n",
    "        a,b = int(input(\"Enter first number: \")),int(input(\"Enter second number: \"))\n",
    "        print(\"Division is: \",a/b)\n",
    "    case _:\n",
    "         print(\"Please Enter a valid number from menu: \")         "
   ]
  },
  {
   "cell_type": "raw",
   "id": "5f3fd8e1",
   "metadata": {},
   "source": [
    "3. Write a menu driven program with the following options:\n",
    "      a. Check whether a given set of three numbers are lengths of an isosceles\n",
    "          triangle or not\n",
    "      b. Check whether a given set of three numbers are lengths of sides of a right\n",
    "          angled triangle or not\n",
    "      c. Check whether a given set of three numbers are equilateral triangle or not\n",
    "      d. Exit."
   ]
  },
  {
   "cell_type": "code",
   "execution_count": 5,
   "id": "ca4d25cf",
   "metadata": {},
   "outputs": [
    {
     "name": "stdout",
     "output_type": "stream",
     "text": [
      "Enter the thee sides of triangles as a,b,c\n",
      "Enter side a: 3\n",
      "Enter side b: 3\n",
      "Enter side b: 9\n",
      "isosceles triangle\n"
     ]
    }
   ],
   "source": [
    "print(\"Enter the thee sides of triangles as a,b,c\")\n",
    "a,b,c=int(input(\"Enter side a: \")),int(input(\"Enter side b: \")),int(input(\"Enter side b: \"))\n",
    "match (a,b,c):\n",
    "    case (a,b,c) if a**2==b**2+c**2 or b**2==a**2+c**2 or c**2==a**2+b**2:\n",
    "        print(\"right angled traiangle\")\n",
    "    \n",
    "    case (a,b,c) if a==b==c:\n",
    "        print(\"Equilateral triangle\")\n",
    "     \n",
    "    case (a,b,c) if a==b or b==c or c==a:\n",
    "        print(\"isosceles triangle\")"
   ]
  },
  {
   "cell_type": "markdown",
   "id": "b8d8207b",
   "metadata": {},
   "source": [
    "4. Write a program which takes user’s age and display the category of person. Age\n",
    "below 10 years- Kid, Age below 20 - Teen, Age below 40 - young, Age below 60 -\n",
    "Experienced, Age above or equal 60 - Senior Citizen."
   ]
  },
  {
   "cell_type": "code",
   "execution_count": 2,
   "id": "49a25fa1",
   "metadata": {},
   "outputs": [
    {
     "name": "stdout",
     "output_type": "stream",
     "text": [
      "Enter the age: 10\n",
      "Teen\n"
     ]
    }
   ],
   "source": [
    "age = int(input(\"Enter the age: \"))\n",
    "match age:\n",
    "    case age if age>0 and age<10:\n",
    "         print(\"kid\")\n",
    "    case age if age<20:\n",
    "        print(\"Teen\")\n",
    "    case age if age< 40:\n",
    "        print(\"Young\")\n",
    "    case age if age <60:\n",
    "        print(\"Experienced\")\n",
    "    case age if age>= 60:\n",
    "        print(\"Senior Citizen\")\n",
    "        "
   ]
  },
  {
   "cell_type": "markdown",
   "id": "af4548fe",
   "metadata": {},
   "source": [
    "5. Write a program which takes a number from user. Print Saurabh Shukla if the number\n",
    "is even, print Prateek Jain if the number is negative odd number and print Aditya\n",
    "Choudhary if number is positive odd number."
   ]
  },
  {
   "cell_type": "code",
   "execution_count": 7,
   "id": "259283cb",
   "metadata": {},
   "outputs": [
    {
     "name": "stdout",
     "output_type": "stream",
     "text": [
      "Enter the number: 6\n",
      "Saurabh Shukla\n"
     ]
    }
   ],
   "source": [
    "num = int(input(\"Enter the number: \"))\n",
    "match num:\n",
    "    case num if num%2==0:\n",
    "            print(\"Saurabh Shukla\")\n",
    "    case num if num<0 and num%2!=0:\n",
    "        print(\"Prateek Jain\")\n",
    "    case num if num >0 and num%2!=0: \n",
    "        print(\"Aditya Choudhary\")"
   ]
  },
  {
   "cell_type": "markdown",
   "id": "bd4467df",
   "metadata": {},
   "source": [
    "6. Write a python program to check whether a given string is a multiword string or single\n",
    "word string using match case statement"
   ]
  },
  {
   "cell_type": "code",
   "execution_count": 24,
   "id": "43fa711f",
   "metadata": {},
   "outputs": [
    {
     "name": "stdout",
     "output_type": "stream",
     "text": [
      "Enter the string: vinay kumar yadav\n",
      "multiword\n"
     ]
    }
   ],
   "source": [
    "x = input(\"Enter the string: \").split()\n",
    "y = len(x)\n",
    "match y:\n",
    "    case 1:\n",
    "        print(\"single word\")\n",
    "    case _:\n",
    "        print(\"multiword\")"
   ]
  },
  {
   "cell_type": "markdown",
   "id": "3f63431b",
   "metadata": {},
   "source": [
    "7. Write a python program to check whether a given number is positive, negative or\n",
    "   zero using match case statement"
   ]
  },
  {
   "cell_type": "code",
   "execution_count": 27,
   "id": "0cc3ff4a",
   "metadata": {},
   "outputs": [
    {
     "name": "stdout",
     "output_type": "stream",
     "text": [
      "Enter the number: -2\n",
      "Negative\n"
     ]
    }
   ],
   "source": [
    "num = int(input(\"Enter the number: \"))\n",
    "if num>0:\n",
    "    y=1\n",
    "elif num<0:\n",
    "    y=-1\n",
    "else:\n",
    "    y=0\n",
    "match y:\n",
    "    case 1:\n",
    "        print(\"Positive\")\n",
    "    case -1:\n",
    "        print(\"Negative\")\n",
    "    case 0:\n",
    "        print(\"zero\")"
   ]
  },
  {
   "cell_type": "markdown",
   "id": "046d594e",
   "metadata": {},
   "source": [
    "8. Write a python script to check whether two given strings are identical, first string\n",
    "comes before the second in dictionary order or first string comes after the second\n",
    "string in dictionary order using match case statement"
   ]
  },
  {
   "cell_type": "code",
   "execution_count": 8,
   "id": "96dd4a59",
   "metadata": {},
   "outputs": [
    {
     "name": "stdout",
     "output_type": "stream",
     "text": [
      "Enter string first: ballia\n",
      "Enter string first: ghaziabad\n",
      "ballia comes before the ghaziabad\n"
     ]
    }
   ],
   "source": [
    "s1,s2 = input(\"Enter string first: \"),input(\"Enter string first: \")\n",
    "match (s1,s2):\n",
    "    case (s1,s2) if s1 == s2:\n",
    "        print(\"Indentical Strings\")\n",
    "    case (s1,s2) if s1 < s2:\n",
    "        print(\"{} comes before the {}\".format(s1,s2))\n",
    "    case (s1,s2) if s1 > s2:\n",
    "        print(\"{} comes after the {}\".format(s1,s2))    "
   ]
  },
  {
   "cell_type": "markdown",
   "id": "91884cf7",
   "metadata": {},
   "source": [
    "9. Write a python script to check whether a given year is\n",
    "a. Non century leap year\n",
    "b. Century leap year\n",
    "c. Non century non leap year\n",
    "d. Century non leap year"
   ]
  },
  {
   "cell_type": "code",
   "execution_count": 13,
   "id": "8e42fae2",
   "metadata": {},
   "outputs": [
    {
     "name": "stdout",
     "output_type": "stream",
     "text": [
      "Enter the year: 2024\n",
      "Non century leap year\n"
     ]
    }
   ],
   "source": [
    "year = int(input(\"Enter the year: \"))\n",
    "match year:\n",
    "    case year if year%100!=0 and year%4==0:\n",
    "        print(\"Non century leap year\")\n",
    "    case year if year%100==0 and year%400==0:\n",
    "        print(\"Century leap year\")\n",
    "    case year if year%100!=0 and year%4!=0:\n",
    "        print(\"Non century non leap year\")\n",
    "    case year if year%100==0 and year%400!=0: \n",
    "        print(\"Century non leap year\")"
   ]
  },
  {
   "cell_type": "code",
   "execution_count": null,
   "id": "ff049cb2",
   "metadata": {},
   "outputs": [],
   "source": [
    "10. Write a program to display day name on the basis of user’s liking of a colour. Ask\n",
    "user for his favorite colour. User can answer in a sentence like “I like red colour”.\n",
    "Assuming all colour name entered by user is in lowercase. Use match case to display\n",
    "day name associated with the colour.\n",
    "a. Yellow - Monday\n",
    "b. Blue - Tuesday\n",
    "c. Orange - Wednesday\n",
    "d. White - Thursday\n",
    "e. Black - Friday\n",
    "f. Red - Saturday\n",
    "g. All other colours - Sunday"
   ]
  },
  {
   "cell_type": "code",
   "execution_count": 15,
   "id": "ccb6851a",
   "metadata": {},
   "outputs": [
    {
     "name": "stdout",
     "output_type": "stream",
     "text": [
      "what is your favorite colour?I like red colour\n",
      "Saturday\n"
     ]
    }
   ],
   "source": [
    "s = input(\"what is your favorite colour?\")\n",
    "li = [\"yellow\",\"blue\",\"orange\",\"white\",\"black\",\"red\"]\n",
    "for colour in li:\n",
    "    if colour in s:\n",
    "        c = colour\n",
    "        break \n",
    "else:\n",
    "    c = \"other\"\n",
    "match c:\n",
    "    case \"yellow\":\n",
    "        print(\"Monday\")\n",
    "    case \"blue\":\n",
    "        print(\"Tuesday\")\n",
    "    case \"orange\":\n",
    "        print(\"Wednesday\")\n",
    "    case \"white\":\n",
    "        print(\"Thursday\")\n",
    "    case \"black\":\n",
    "        print(\"Friday\")\n",
    "    case \"red\":\n",
    "        print(\"Saturday\")\n",
    "    case \"other\":\n",
    "        print(\"Sunday\")"
   ]
  }
 ],
 "metadata": {
  "kernelspec": {
   "display_name": "Python 3 (ipykernel)",
   "language": "python",
   "name": "python3"
  },
  "language_info": {
   "codemirror_mode": {
    "name": "ipython",
    "version": 3
   },
   "file_extension": ".py",
   "mimetype": "text/x-python",
   "name": "python",
   "nbconvert_exporter": "python",
   "pygments_lexer": "ipython3",
   "version": "3.10.6"
  }
 },
 "nbformat": 4,
 "nbformat_minor": 5
}
